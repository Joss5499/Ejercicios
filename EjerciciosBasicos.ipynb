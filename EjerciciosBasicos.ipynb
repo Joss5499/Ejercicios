{
  "nbformat": 4,
  "nbformat_minor": 0,
  "metadata": {
    "colab": {
      "provenance": [],
      "authorship_tag": "ABX9TyMRvlFe/SyDuOl+021mm8HR",
      "include_colab_link": true
    },
    "kernelspec": {
      "name": "python3",
      "display_name": "Python 3"
    },
    "language_info": {
      "name": "python"
    }
  },
  "cells": [
    {
      "cell_type": "markdown",
      "metadata": {
        "id": "view-in-github",
        "colab_type": "text"
      },
      "source": [
        "<a href=\"https://colab.research.google.com/github/Joss5499/Ejercicios/blob/main/EjerciciosBasicos.ipynb\" target=\"_parent\"><img src=\"https://colab.research.google.com/assets/colab-badge.svg\" alt=\"Open In Colab\"/></a>"
      ]
    },
    {
      "cell_type": "code",
      "execution_count": null,
      "metadata": {
        "id": "12DsHpIKtdp0"
      },
      "outputs": [],
      "source": []
    },
    {
      "cell_type": "markdown",
      "source": [
        "Numpy - Libreria - Ciencia de datos"
      ],
      "metadata": {
        "id": "_o7BT-ThuB_j"
      }
    },
    {
      "cell_type": "code",
      "source": [
        "import numpy as np\n",
        "!pip install numpy"
      ],
      "metadata": {
        "colab": {
          "base_uri": "https://localhost:8080/"
        },
        "id": "YxF6G3jtujHh",
        "outputId": "5ddbf696-2fc1-4099-a65b-6d6475a9f829"
      },
      "execution_count": 9,
      "outputs": [
        {
          "output_type": "stream",
          "name": "stdout",
          "text": [
            "Requirement already satisfied: numpy in /usr/local/lib/python3.11/dist-packages (2.0.2)\n"
          ]
        }
      ]
    },
    {
      "cell_type": "markdown",
      "source": [
        "Array de 1 Dimension"
      ],
      "metadata": {
        "id": "jHSBm5zow5EY"
      }
    },
    {
      "cell_type": "code",
      "source": [
        "array_id = np.array([10, 20, 30])\n",
        "print(array_id)"
      ],
      "metadata": {
        "colab": {
          "base_uri": "https://localhost:8080/"
        },
        "id": "9NP5Rugmv2eq",
        "outputId": "0a53c5eb-42ed-41bc-90e2-830a0fbc0b07"
      },
      "execution_count": 10,
      "outputs": [
        {
          "output_type": "stream",
          "name": "stdout",
          "text": [
            "[10 20 30]\n"
          ]
        }
      ]
    },
    {
      "cell_type": "code",
      "source": [
        "array_id"
      ],
      "metadata": {
        "colab": {
          "base_uri": "https://localhost:8080/"
        },
        "id": "YpLziYeGwlf6",
        "outputId": "7cf7c006-2d6d-4cbb-a559-919870c1a9c4"
      },
      "execution_count": 11,
      "outputs": [
        {
          "output_type": "execute_result",
          "data": {
            "text/plain": [
              "array([10, 20, 30])"
            ]
          },
          "metadata": {},
          "execution_count": 11
        }
      ]
    },
    {
      "cell_type": "markdown",
      "source": [
        "Array de 2 Dimensiones"
      ],
      "metadata": {
        "id": "5ZnoZ5RhwyP4"
      }
    },
    {
      "cell_type": "code",
      "source": [
        "array_2d = np.array([(10, 20, 30), (50, 60, 70)])  # Las dos filas tienen 3 elementos\n",
        "print(array_2d)"
      ],
      "metadata": {
        "colab": {
          "base_uri": "https://localhost:8080/"
        },
        "id": "3Kad5Bn8xCPw",
        "outputId": "e31dd734-f9b1-47f9-d380-39ac69000cad"
      },
      "execution_count": 12,
      "outputs": [
        {
          "output_type": "stream",
          "name": "stdout",
          "text": [
            "[[10 20 30]\n",
            " [50 60 70]]\n"
          ]
        }
      ]
    },
    {
      "cell_type": "markdown",
      "source": [
        "Array de tres Dimensiones"
      ],
      "metadata": {
        "id": "4EVfxq4ox1Vo"
      }
    },
    {
      "cell_type": "code",
      "source": [
        "array_3d = np.array([[[1, 2, 3], [5, 6, 7], [9, 10, 11]],\n",
        "                     [[13, 14, 15], [17, 18, 19], [21, 22, 23]]],dtype=float)\n",
        "\n",
        "print(array_3d)"
      ],
      "metadata": {
        "colab": {
          "base_uri": "https://localhost:8080/"
        },
        "id": "9KUhAkzax3Sn",
        "outputId": "2c69aa70-dd74-47ec-dedf-d2356bb6cb7d"
      },
      "execution_count": 13,
      "outputs": [
        {
          "output_type": "stream",
          "name": "stdout",
          "text": [
            "[[[ 1.  2.  3.]\n",
            "  [ 5.  6.  7.]\n",
            "  [ 9. 10. 11.]]\n",
            "\n",
            " [[13. 14. 15.]\n",
            "  [17. 18. 19.]\n",
            "  [21. 22. 23.]]]\n"
          ]
        }
      ]
    },
    {
      "cell_type": "markdown",
      "source": [
        "Array con 0 y de 3 filas y 4 columnas"
      ],
      "metadata": {
        "id": "A74hKE0c4VYU"
      }
    },
    {
      "cell_type": "code",
      "source": [
        "array_zeros = np.zeros((3, 4))\n",
        "\n",
        "print(array_zeros)"
      ],
      "metadata": {
        "colab": {
          "base_uri": "https://localhost:8080/"
        },
        "id": "HvlyQzb14cic",
        "outputId": "bb188fb9-ea6a-49e8-be4f-dd5b32e78ee9"
      },
      "execution_count": 14,
      "outputs": [
        {
          "output_type": "stream",
          "name": "stdout",
          "text": [
            "[[0. 0. 0. 0.]\n",
            " [0. 0. 0. 0.]\n",
            " [0. 0. 0. 0.]]\n"
          ]
        }
      ]
    },
    {
      "cell_type": "markdown",
      "source": [
        "Array con 1  de 4 filas y 5 columnas"
      ],
      "metadata": {
        "id": "7X9Tq9sY45Qz"
      }
    },
    {
      "cell_type": "code",
      "source": [
        "array_ones = np.ones((4, 5))\n",
        "\n",
        "print(array_ones)"
      ],
      "metadata": {
        "colab": {
          "base_uri": "https://localhost:8080/"
        },
        "id": "gduv1Y7a49y8",
        "outputId": "35345727-ab2f-42ce-e22b-454918ea4621"
      },
      "execution_count": null,
      "outputs": [
        {
          "output_type": "stream",
          "name": "stdout",
          "text": [
            "[[1. 1. 1. 1. 1.]\n",
            " [1. 1. 1. 1. 1.]\n",
            " [1. 1. 1. 1. 1.]\n",
            " [1. 1. 1. 1. 1.]]\n"
          ]
        }
      ]
    },
    {
      "cell_type": "markdown",
      "source": [
        "Array con intervalos y saltos"
      ],
      "metadata": {
        "id": "EcLZHdrF5Wgz"
      }
    },
    {
      "cell_type": "code",
      "source": [
        "array_intervalos = np.arange(0, 20, 2)\n",
        "\n",
        "print(array_intervalos)"
      ],
      "metadata": {
        "colab": {
          "base_uri": "https://localhost:8080/"
        },
        "id": "xvNWixGy5ad6",
        "outputId": "0b7727a8-9b91-4c9d-f870-8cfaba032091"
      },
      "execution_count": null,
      "outputs": [
        {
          "output_type": "stream",
          "name": "stdout",
          "text": [
            "[ 0  2  4  6  8 10 12 14 16 18]\n"
          ]
        }
      ]
    },
    {
      "cell_type": "markdown",
      "source": [
        "array de rango de edad de 15 a 30 años cuales son los numeros primos"
      ],
      "metadata": {
        "id": "eA8O4qDd6AT7"
      }
    },
    {
      "cell_type": "code",
      "source": [
        "import numpy as np\n",
        "\n",
        "# Rango de edades de 15 a 30\n",
        "rango_edades = np.arange(15, 31)\n",
        "\n",
        "# Funcion para verificar si un nmero es primo\n",
        "def es_primo(n):\n",
        "    if n <= 1:\n",
        "        return False\n",
        "    for i in range(2, int(np.sqrt(n)) + 1):  # solo necesitamos verificar hasta la raiz cuadrada de n\n",
        "        if n % i == 0:\n",
        "            return False\n",
        "    return True\n",
        "\n",
        "# Filtrar los numeros primos en el rango de edades y convertirlos a enteros normales de Python\n",
        "numeros_primos = [int(edad) for edad in rango_edades if es_primo(edad)]\n",
        "\n",
        "print(\"Números primos en el rango de 15 a 30:\", numeros_primos)\n"
      ],
      "metadata": {
        "colab": {
          "base_uri": "https://localhost:8080/"
        },
        "id": "NbfHekJn6NAb",
        "outputId": "95a99cc4-68ce-4d07-d08e-2f3e8dae6e90"
      },
      "execution_count": null,
      "outputs": [
        {
          "output_type": "stream",
          "name": "stdout",
          "text": [
            "Números primos en el rango de 15 a 30: [17, 19, 23, 29]\n"
          ]
        }
      ]
    },
    {
      "cell_type": "markdown",
      "source": [
        "Array con intervalos y divisiones"
      ],
      "metadata": {
        "id": "DMd65LIL8AOC"
      }
    },
    {
      "cell_type": "code",
      "source": [
        "import numpy as np\n",
        "\n",
        "# Crear un array con 5 números igualmente espaciados entre 0 y 1\n",
        "array_intervalos_divisiones = np.linspace(0, 1, 5)\n",
        "\n",
        "print(array_intervalos_divisiones)\n"
      ],
      "metadata": {
        "colab": {
          "base_uri": "https://localhost:8080/"
        },
        "id": "fhlnsfrk8DHy",
        "outputId": "bb242563-3a0f-4b15-8b35-c61f6b97f0e0"
      },
      "execution_count": null,
      "outputs": [
        {
          "output_type": "stream",
          "name": "stdout",
          "text": [
            "[0.   0.25 0.5  0.75 1.  ]\n"
          ]
        }
      ]
    },
    {
      "cell_type": "markdown",
      "source": [
        "array con matriz identidad, diagonal de unos"
      ],
      "metadata": {
        "id": "oXl_WKDb8l0B"
      }
    },
    {
      "cell_type": "code",
      "source": [
        "import numpy as np\n",
        "\n",
        "# Crear una matriz identidad de 3x3\n",
        "matriz_identidad = np.eye(3, dtype=int)\n",
        "\n",
        "print(matriz_identidad)\n"
      ],
      "metadata": {
        "colab": {
          "base_uri": "https://localhost:8080/"
        },
        "id": "GtJtPYSw8o_6",
        "outputId": "996408e3-5751-4d53-e66a-c48a41466b80"
      },
      "execution_count": null,
      "outputs": [
        {
          "output_type": "stream",
          "name": "stdout",
          "text": [
            "[[1 0 0]\n",
            " [0 1 0]\n",
            " [0 0 1]]\n"
          ]
        }
      ]
    },
    {
      "cell_type": "markdown",
      "source": [
        "array con matriz identidad. diagonal de ceros"
      ],
      "metadata": {
        "id": "lfWZmBMM9xX5"
      }
    },
    {
      "cell_type": "code",
      "source": [
        "import numpy as np\n",
        "\n",
        "# para una matriz 4x4 de unos\n",
        "matriz = np.ones((4, 4), dtype=int)\n",
        "\n",
        "# para rellenar la diagonal con ceros\n",
        "np.fill_diagonal(matriz, 0)\n",
        "\n",
        "print(matriz)"
      ],
      "metadata": {
        "colab": {
          "base_uri": "https://localhost:8080/"
        },
        "id": "m5mTsHg9933Z",
        "outputId": "c4ca5870-a8a0-4562-e98a-1c16abcfdc16"
      },
      "execution_count": null,
      "outputs": [
        {
          "output_type": "stream",
          "name": "stdout",
          "text": [
            "[[0 1 1 1]\n",
            " [1 0 1 1]\n",
            " [1 1 0 1]\n",
            " [1 1 1 0]]\n"
          ]
        }
      ]
    },
    {
      "cell_type": "markdown",
      "source": [],
      "metadata": {
        "id": "Ley9J-qSBaXP"
      }
    },
    {
      "cell_type": "markdown",
      "source": [
        "array  valores aleatorios de 0 - 1"
      ],
      "metadata": {
        "id": "PF1YJB7V-e5p"
      }
    },
    {
      "cell_type": "markdown",
      "source": [],
      "metadata": {
        "id": "8rmTckf0_YcI"
      }
    },
    {
      "cell_type": "code",
      "source": [
        "import numpy as np\n",
        "\n",
        "# Crear un array 1D de 5 valores aleatorios entre 0 y 1\n",
        "array_aleatorio_1d = np.random.rand(5)\n",
        "\n",
        "print(array_aleatorio_1d)\n"
      ],
      "metadata": {
        "colab": {
          "base_uri": "https://localhost:8080/"
        },
        "id": "MvAxN0d5-koQ",
        "outputId": "a57e07c8-5c63-4812-f372-2e3d9c3ba6ce"
      },
      "execution_count": null,
      "outputs": [
        {
          "output_type": "stream",
          "name": "stdout",
          "text": [
            "[0.49727553 0.88997752 0.6838338  0.81449935 0.4983308 ]\n"
          ]
        }
      ]
    },
    {
      "cell_type": "markdown",
      "source": [
        "array de numeros vacios de 4x3"
      ],
      "metadata": {
        "id": "QrHMBDZ-_Dq3"
      }
    },
    {
      "cell_type": "code",
      "source": [
        "import numpy as np\n",
        "\n",
        "# Crear un array vacío de 4x3\n",
        "array_vacio = np.empty((4, 3))\n",
        "\n",
        "print(array_vacio)\n"
      ],
      "metadata": {
        "colab": {
          "base_uri": "https://localhost:8080/"
        },
        "id": "kGcSL2u6_Luw",
        "outputId": "e4d45236-3cd3-4c9c-f0b0-9f1f58974a74"
      },
      "execution_count": null,
      "outputs": [
        {
          "output_type": "stream",
          "name": "stdout",
          "text": [
            "[[0. 0. 0.]\n",
            " [0. 0. 0.]\n",
            " [0. 0. 0.]\n",
            " [0. 0. 0.]]\n"
          ]
        }
      ]
    },
    {
      "cell_type": "markdown",
      "source": [
        "grabar y cargar"
      ],
      "metadata": {
        "id": "y0xN9HjABcD-"
      }
    },
    {
      "cell_type": "code",
      "source": [
        "#grabar\n",
        "np.save('mi_array_3d',array_3d)"
      ],
      "metadata": {
        "id": "0T8lwirABgzm"
      },
      "execution_count": null,
      "outputs": []
    },
    {
      "cell_type": "code",
      "source": [
        "#cargar\n",
        "# Cargar el array guardado en 'mi_array.npy'\n",
        "mi_array = np.load('mi_array_3d.npy')  # Asegúrate de que el archivo esté en la misma carpeta o da la ruta completa\n",
        "\n",
        "# Mostrar el array cargado\n",
        "print(mi_array)"
      ],
      "metadata": {
        "colab": {
          "base_uri": "https://localhost:8080/"
        },
        "id": "A88bEOOYCnIG",
        "outputId": "b1f83ac9-103c-4a76-d0d1-7a334dbf77c8"
      },
      "execution_count": null,
      "outputs": [
        {
          "output_type": "stream",
          "name": "stdout",
          "text": [
            "[[0.41512497 0.10308736 0.84842414]\n",
            " [0.05891304 0.7845477  0.12712077]\n",
            " [0.17822409 0.78630247 0.7548979 ]]\n"
          ]
        }
      ]
    },
    {
      "cell_type": "markdown",
      "source": [
        "grabar y cargar 2d"
      ],
      "metadata": {
        "id": "PJpvqVaTEDx1"
      }
    },
    {
      "cell_type": "code",
      "source": [
        "np.save('mi_array_2d',array_2d)"
      ],
      "metadata": {
        "id": "CJA1sRF9EGaN"
      },
      "execution_count": null,
      "outputs": []
    },
    {
      "cell_type": "code",
      "source": [
        "# Cargar el array guardado en 'mi_array.npy'\n",
        "mi_array = np.load('mi_array_2d.npy')  # Asegúrate de que el archivo esté en la misma carpeta o da la ruta completa\n",
        "\n",
        "# Mostrar el array cargado\n",
        "print(mi_array)"
      ],
      "metadata": {
        "colab": {
          "base_uri": "https://localhost:8080/"
        },
        "id": "GjiUBL5ZEH8k",
        "outputId": "ca84172e-4c4c-4b22-92e5-7afa450827f7"
      },
      "execution_count": null,
      "outputs": [
        {
          "output_type": "stream",
          "name": "stdout",
          "text": [
            "[[10 20 30]\n",
            " [50 60 70]]\n"
          ]
        }
      ]
    },
    {
      "cell_type": "markdown",
      "source": [
        "GRABAR Y CARGAR FICHEROS DE TEXTO"
      ],
      "metadata": {
        "id": "2tSwiM8AE4a1"
      }
    },
    {
      "cell_type": "code",
      "source": [
        "#grabarf3\n",
        "np.savetxt('mi_array.txt',array_2d, delimiter=\"\")"
      ],
      "metadata": {
        "id": "oD49berVE9z9"
      },
      "execution_count": null,
      "outputs": []
    },
    {
      "cell_type": "code",
      "source": [
        "#cargarf3\n"
      ],
      "metadata": {
        "id": "H-cjE4_yGJws"
      },
      "execution_count": null,
      "outputs": []
    },
    {
      "cell_type": "markdown",
      "source": [
        "Tipos de datos"
      ],
      "metadata": {
        "id": "Blzz1fVigv3X"
      }
    },
    {
      "cell_type": "code",
      "source": [
        "#entero\n",
        "np.int64"
      ],
      "metadata": {
        "id": "2migg8G7gxtu"
      },
      "execution_count": null,
      "outputs": []
    },
    {
      "cell_type": "code",
      "source": [
        "#decimal o flotante\n",
        "np.float64"
      ],
      "metadata": {
        "id": "CWu9qq8zhQtw"
      },
      "execution_count": null,
      "outputs": []
    },
    {
      "cell_type": "code",
      "source": [
        "#variable compleja\n",
        "np.complex64"
      ],
      "metadata": {
        "id": "x1KnKkvThOln"
      },
      "execution_count": null,
      "outputs": []
    },
    {
      "cell_type": "code",
      "source": [
        "#boleanos\n",
        "np.bool_"
      ],
      "metadata": {
        "collapsed": true,
        "id": "DWMu4wKSjNXw"
      },
      "execution_count": null,
      "outputs": []
    },
    {
      "cell_type": "code",
      "source": [
        "#objetos\n",
        "np.object_"
      ],
      "metadata": {
        "id": "nAtVoXyglde4"
      },
      "execution_count": null,
      "outputs": []
    },
    {
      "cell_type": "code",
      "source": [
        "#cadena texto\n",
        "np.strings"
      ],
      "metadata": {
        "id": "_9OGnfrklmtW"
      },
      "execution_count": null,
      "outputs": []
    },
    {
      "cell_type": "code",
      "source": [
        "np.bytes_"
      ],
      "metadata": {
        "id": "B_RSS2OKmK_v"
      },
      "execution_count": null,
      "outputs": []
    },
    {
      "cell_type": "markdown",
      "source": [
        "Proiedades y caracteristicas dentro de un entorno"
      ],
      "metadata": {
        "id": "cFc4Jy_Omw1P"
      }
    },
    {
      "cell_type": "code",
      "source": [
        "array_3d.shape"
      ],
      "metadata": {
        "colab": {
          "base_uri": "https://localhost:8080/"
        },
        "id": "lYDb5Drim5jd",
        "outputId": "46c04351-0056-40fd-b843-5174bd48db93"
      },
      "execution_count": 15,
      "outputs": [
        {
          "output_type": "execute_result",
          "data": {
            "text/plain": [
              "(2, 3, 3)"
            ]
          },
          "metadata": {},
          "execution_count": 15
        }
      ]
    },
    {
      "cell_type": "code",
      "source": [
        "#longitud\n",
        "len(array_3d)"
      ],
      "metadata": {
        "colab": {
          "base_uri": "https://localhost:8080/"
        },
        "id": "YPH5kB5Vnmum",
        "outputId": "4ad7cedc-9627-4181-a236-687de21d81df"
      },
      "execution_count": 17,
      "outputs": [
        {
          "output_type": "execute_result",
          "data": {
            "text/plain": [
              "2"
            ]
          },
          "metadata": {},
          "execution_count": 17
        }
      ]
    },
    {
      "cell_type": "code",
      "source": [
        "array_3d.ndim"
      ],
      "metadata": {
        "colab": {
          "base_uri": "https://localhost:8080/"
        },
        "id": "E8R30u2zobzn",
        "outputId": "c996b882-b97b-43dc-f545-a191e15333f9"
      },
      "execution_count": 18,
      "outputs": [
        {
          "output_type": "execute_result",
          "data": {
            "text/plain": [
              "3"
            ]
          },
          "metadata": {},
          "execution_count": 18
        }
      ]
    },
    {
      "cell_type": "code",
      "source": [
        "import numpy as np\n",
        "\n",
        "arrays_5d = []\n",
        "\n",
        "for i in range(5):\n",
        "    arr = np.random.rand(2, 3, 4, 5, 6)\n",
        "    arrays_5d.append(arr)\n",
        "    print(f\"Array {i+1} shape:\", arr.shape)\n"
      ],
      "metadata": {
        "colab": {
          "base_uri": "https://localhost:8080/"
        },
        "id": "srvi4EdEpj8N",
        "outputId": "4de11bdb-ced5-470f-b25d-d3a6cf4c77bf"
      },
      "execution_count": 26,
      "outputs": [
        {
          "output_type": "stream",
          "name": "stdout",
          "text": [
            "Array 1 shape: (2, 3, 4, 5, 6)\n",
            "Array 2 shape: (2, 3, 4, 5, 6)\n",
            "Array 3 shape: (2, 3, 4, 5, 6)\n",
            "Array 4 shape: (2, 3, 4, 5, 6)\n",
            "Array 5 shape: (2, 3, 4, 5, 6)\n"
          ]
        }
      ]
    },
    {
      "cell_type": "code",
      "source": [
        "array_5d.ndim"
      ],
      "metadata": {
        "colab": {
          "base_uri": "https://localhost:8080/"
        },
        "id": "IlRl8YDqprUV",
        "outputId": "7722857b-2556-4aef-eeef-d372e69a33e8"
      },
      "execution_count": 27,
      "outputs": [
        {
          "output_type": "execute_result",
          "data": {
            "text/plain": [
              "5"
            ]
          },
          "metadata": {},
          "execution_count": 27
        }
      ]
    },
    {
      "cell_type": "code",
      "source": [
        "array_3d.dtype"
      ],
      "metadata": {
        "colab": {
          "base_uri": "https://localhost:8080/"
        },
        "id": "cEtKjHlhsnFW",
        "outputId": "97ed9f5d-72dc-41af-db18-8e743851aa37"
      },
      "execution_count": 28,
      "outputs": [
        {
          "output_type": "execute_result",
          "data": {
            "text/plain": [
              "dtype('float64')"
            ]
          },
          "metadata": {},
          "execution_count": 28
        }
      ]
    },
    {
      "cell_type": "code",
      "source": [
        "array_3d.dtype.name"
      ],
      "metadata": {
        "colab": {
          "base_uri": "https://localhost:8080/",
          "height": 35
        },
        "id": "dShqIQgUsznF",
        "outputId": "37ca2b09-b04e-4839-bbf7-711212238b50"
      },
      "execution_count": 29,
      "outputs": [
        {
          "output_type": "execute_result",
          "data": {
            "text/plain": [
              "'float64'"
            ],
            "application/vnd.google.colaboratory.intrinsic+json": {
              "type": "string"
            }
          },
          "metadata": {},
          "execution_count": 29
        }
      ]
    },
    {
      "cell_type": "code",
      "source": [
        "#convertir de un tipo a otro tipo de dato\n",
        "array_3d.astype(int)"
      ],
      "metadata": {
        "colab": {
          "base_uri": "https://localhost:8080/"
        },
        "id": "Sgqc_FTltGAV",
        "outputId": "685efb90-01f8-4321-fda7-47139f1f0a73"
      },
      "execution_count": 30,
      "outputs": [
        {
          "output_type": "execute_result",
          "data": {
            "text/plain": [
              "array([[[ 1,  2,  3],\n",
              "        [ 5,  6,  7],\n",
              "        [ 9, 10, 11]],\n",
              "\n",
              "       [[13, 14, 15],\n",
              "        [17, 18, 19],\n",
              "        [21, 22, 23]]])"
            ]
          },
          "metadata": {},
          "execution_count": 30
        }
      ]
    },
    {
      "cell_type": "code",
      "source": [
        "array_3d.astype(int)"
      ],
      "metadata": {
        "colab": {
          "base_uri": "https://localhost:8080/"
        },
        "id": "fLja0Pxctbgt",
        "outputId": "26d9d0f1-7bb2-4b5e-a04e-5d4453c262ea"
      },
      "execution_count": 35,
      "outputs": [
        {
          "output_type": "execute_result",
          "data": {
            "text/plain": [
              "array([[[ 1,  2,  3],\n",
              "        [ 5,  6,  7],\n",
              "        [ 9, 10, 11]],\n",
              "\n",
              "       [[13, 14, 15],\n",
              "        [17, 18, 19],\n",
              "        [21, 22, 23]]])"
            ]
          },
          "metadata": {},
          "execution_count": 35
        }
      ]
    },
    {
      "cell_type": "markdown",
      "source": [
        "Operadores matematicos"
      ],
      "metadata": {
        "id": "IVQCS_gMt9BW"
      }
    },
    {
      "cell_type": "code",
      "source": [
        "array_id"
      ],
      "metadata": {
        "colab": {
          "base_uri": "https://localhost:8080/"
        },
        "id": "XdG5mvRAt-wN",
        "outputId": "b9077b6a-9a70-4755-b6e5-d30b216263e3"
      },
      "execution_count": 36,
      "outputs": [
        {
          "output_type": "execute_result",
          "data": {
            "text/plain": [
              "array([10, 20, 30])"
            ]
          },
          "metadata": {},
          "execution_count": 36
        }
      ]
    },
    {
      "cell_type": "code",
      "source": [
        "#array de ejemplos\n",
        "import numpy as np\n",
        "\n",
        "array1 = np.random.random((4, 4))  # ¡fíjate que las dimensiones van dentro de una tupla!\n",
        "print(array1)"
      ],
      "metadata": {
        "colab": {
          "base_uri": "https://localhost:8080/"
        },
        "id": "UyUAsooAuMJU",
        "outputId": "db7f97d9-6e4d-4a6f-c454-291a2e95e424"
      },
      "execution_count": 39,
      "outputs": [
        {
          "output_type": "stream",
          "name": "stdout",
          "text": [
            "[[0.77486936 0.22349721 0.43642992 0.90670623]\n",
            " [0.17428421 0.49326319 0.54420689 0.9607405 ]\n",
            " [0.53601627 0.36844141 0.34836348 0.0547295 ]\n",
            " [0.19206311 0.97738289 0.76250498 0.31968124]]\n"
          ]
        }
      ]
    },
    {
      "cell_type": "code",
      "source": [
        "import numpy as np\n",
        "\n",
        "array2 = np.random.random((4, 4))  # ¡fíjate que las dimensiones van dentro de una tupla!\n",
        "print(array2)"
      ],
      "metadata": {
        "colab": {
          "base_uri": "https://localhost:8080/"
        },
        "id": "pX_TAJR7ukYe",
        "outputId": "cf6fe034-11fb-4dde-f9ac-7e591a7c4eae"
      },
      "execution_count": 40,
      "outputs": [
        {
          "output_type": "stream",
          "name": "stdout",
          "text": [
            "[[0.89795974 0.46024714 0.19275178 0.75855813]\n",
            " [0.45246812 0.82211069 0.29545951 0.83432534]\n",
            " [0.35582529 0.7253976  0.54261066 0.874964  ]\n",
            " [0.77786208 0.97005351 0.92000059 0.82064905]]\n"
          ]
        }
      ]
    },
    {
      "cell_type": "code",
      "source": [
        "import numpy as np\n",
        "\n",
        "array3 = np.random.random((4, 4))  # ¡fíjate que las dimensiones van dentro de una tupla!\n",
        "print(array3)"
      ],
      "metadata": {
        "colab": {
          "base_uri": "https://localhost:8080/"
        },
        "id": "LuJ1gSR-u49G",
        "outputId": "ea2d2d00-5fad-4d6d-92bb-3611c969cd90"
      },
      "execution_count": 41,
      "outputs": [
        {
          "output_type": "stream",
          "name": "stdout",
          "text": [
            "[[0.80137906 0.97658669 0.17773483 0.28656252]\n",
            " [0.33075301 0.77516672 0.25631976 0.94854728]\n",
            " [0.98777405 0.99235491 0.2309786  0.22619634]\n",
            " [0.66131304 0.57142583 0.0760265  0.59027778]]\n"
          ]
        }
      ]
    },
    {
      "cell_type": "code",
      "source": [
        "#suma\n",
        "array4=(array1+array2+array3)\n",
        "print(array4)"
      ],
      "metadata": {
        "colab": {
          "base_uri": "https://localhost:8080/"
        },
        "id": "De17csrOu8Ml",
        "outputId": "67afa018-4b30-40f0-e515-ef2ef55a6a77"
      },
      "execution_count": 42,
      "outputs": [
        {
          "output_type": "stream",
          "name": "stdout",
          "text": [
            "[[2.47420816 1.66033105 0.80691653 1.95182689]\n",
            " [0.95750534 2.0905406  1.09598616 2.74361313]\n",
            " [1.87961561 2.08619392 1.12195274 1.15588985]\n",
            " [1.63123823 2.51886223 1.75853206 1.73060806]]\n"
          ]
        }
      ]
    },
    {
      "cell_type": "code",
      "source": [
        "#otra forma de sumar\n",
        "array4 = np.add(np.add(array1, array2), array3)\n",
        "print(array4)\n"
      ],
      "metadata": {
        "colab": {
          "base_uri": "https://localhost:8080/"
        },
        "id": "XwBvwD2KvXb2",
        "outputId": "da040ea5-5bb8-4ea0-c9ae-86e81dd3c53e"
      },
      "execution_count": 46,
      "outputs": [
        {
          "output_type": "stream",
          "name": "stdout",
          "text": [
            "[[2.47420816 1.66033105 0.80691653 1.95182689]\n",
            " [0.95750534 2.0905406  1.09598616 2.74361313]\n",
            " [1.87961561 2.08619392 1.12195274 1.15588985]\n",
            " [1.63123823 2.51886223 1.75853206 1.73060806]]\n"
          ]
        }
      ]
    },
    {
      "cell_type": "code",
      "source": [
        "#resta\n",
        "array4=(array1-array2-array3)\n",
        "print(array4)"
      ],
      "metadata": {
        "colab": {
          "base_uri": "https://localhost:8080/"
        },
        "id": "HimZM9M1vrGX",
        "outputId": "aaab7124-ee58-46eb-8f47-c8fc0575c157"
      },
      "execution_count": 44,
      "outputs": [
        {
          "output_type": "stream",
          "name": "stdout",
          "text": [
            "[[-0.92446944 -1.21333662  0.0659433  -0.13841442]\n",
            " [-0.60893692 -1.10401421 -0.00757238 -0.82213212]\n",
            " [-0.80758307 -1.3493111  -0.42522579 -1.04643085]\n",
            " [-1.24711201 -0.56409645 -0.23352211 -1.09124559]]\n"
          ]
        }
      ]
    },
    {
      "cell_type": "code",
      "source": [
        "#otra forma de resta\n",
        "array4 = np.subtract(np.subtract(array1, array2), array3)\n",
        "print(array4)"
      ],
      "metadata": {
        "colab": {
          "base_uri": "https://localhost:8080/"
        },
        "id": "Ps8eT4K8wxVe",
        "outputId": "ef960c16-27df-4341-9460-0b4b8d8ddea7"
      },
      "execution_count": 47,
      "outputs": [
        {
          "output_type": "stream",
          "name": "stdout",
          "text": [
            "[[-0.92446944 -1.21333662  0.0659433  -0.13841442]\n",
            " [-0.60893692 -1.10401421 -0.00757238 -0.82213212]\n",
            " [-0.80758307 -1.3493111  -0.42522579 -1.04643085]\n",
            " [-1.24711201 -0.56409645 -0.23352211 -1.09124559]]\n"
          ]
        }
      ]
    },
    {
      "cell_type": "code",
      "source": [
        "#multiplicacion\n",
        "array4=(array1*array2*array3)\n",
        "print(array4)"
      ],
      "metadata": {
        "colab": {
          "base_uri": "https://localhost:8080/"
        },
        "id": "CxlDHRU_wNP-",
        "outputId": "722085a8-dd8b-4ce1-ca75-2e3d5c67f979"
      },
      "execution_count": 45,
      "outputs": [
        {
          "output_type": "stream",
          "name": "stdout",
          "text": [
            "[[0.55760075 0.10045557 0.01495152 0.19709466]\n",
            " [0.02608254 0.31434324 0.04121394 0.76032719]\n",
            " [0.18839631 0.26522324 0.0436609  0.01083172]\n",
            " [0.09879925 0.54177666 0.05333297 0.15485708]]\n"
          ]
        }
      ]
    },
    {
      "cell_type": "code",
      "source": [
        "#division\n",
        "array4 = np.divide(np.divide(array1, array2), array3)\n",
        "print(array4)"
      ],
      "metadata": {
        "colab": {
          "base_uri": "https://localhost:8080/"
        },
        "id": "MqYjvEL6xASl",
        "outputId": "d16ba1fb-595c-429e-e60f-b4a9b7562658"
      },
      "execution_count": 48,
      "outputs": [
        {
          "output_type": "stream",
          "name": "stdout",
          "text": [
            "[[ 1.07679649  0.49724475 12.73924131  4.17117431]\n",
            " [ 1.16457179  0.77402199  7.18594645  1.21398041]\n",
            " [ 1.52504813  0.51182949  2.77953757  0.2765322 ]\n",
            " [ 0.37336557  1.76323083 10.90158382  0.65993817]]\n"
          ]
        }
      ]
    },
    {
      "cell_type": "code",
      "source": [
        "array_exp = np.power(array1, 3)\n",
        "print(array_exp)"
      ],
      "metadata": {
        "colab": {
          "base_uri": "https://localhost:8080/"
        },
        "id": "25Vp6BkZyByG",
        "outputId": "6a58056b-e493-4a0c-9deb-db5723202d02"
      },
      "execution_count": 49,
      "outputs": [
        {
          "output_type": "stream",
          "name": "stdout",
          "text": [
            "[[4.65249017e-01 1.11639103e-02 8.31272741e-02 7.45417877e-01]\n",
            " [5.29388084e-03 1.20015166e-01 1.61172935e-01 8.86784922e-01]\n",
            " [1.54004680e-01 5.00155809e-02 4.22763852e-02 1.63932256e-04]\n",
            " [7.08486977e-03 9.33671696e-01 4.43330945e-01 3.26701742e-02]]\n"
          ]
        }
      ]
    },
    {
      "cell_type": "code",
      "source": [
        "import numpy as np\n",
        "\n",
        "array1 = np.random.random((4, 4))\n",
        "array2 = np.random.random((4, 4))\n"
      ],
      "metadata": {
        "id": "6uKAZTQByFNm"
      },
      "execution_count": 50,
      "outputs": []
    },
    {
      "cell_type": "code",
      "source": [
        "seno_array1 = np.sin(array1)\n",
        "coseno_array1 = np.cos(array1)\n",
        "\n",
        "seno_array2 = np.sin(array2)\n",
        "coseno_array2 = np.cos(array2)\n",
        "\n",
        "print(\"Seno de array1:\\n\", seno_array1)\n",
        "print(\"Coseno de array1:\\n\", coseno_array1)\n",
        "print(\"Seno de array2:\\n\", seno_array2)\n",
        "print(\"Coseno de array2:\\n\", coseno_array2)\n"
      ],
      "metadata": {
        "colab": {
          "base_uri": "https://localhost:8080/"
        },
        "id": "Oy1WwaQRyWg9",
        "outputId": "abefe712-613e-4bf8-995a-78ad4e73e691"
      },
      "execution_count": 51,
      "outputs": [
        {
          "output_type": "stream",
          "name": "stdout",
          "text": [
            "Seno de array1:\n",
            " [[0.34368307 0.19472915 0.50885405 0.72163162]\n",
            " [0.77692039 0.59586987 0.34039349 0.34857968]\n",
            " [0.65226207 0.24497117 0.05114747 0.48854818]\n",
            " [0.23461591 0.32200726 0.10437258 0.29008484]]\n",
            "Coseno de array1:\n",
            " [[0.9390857  0.98085705 0.86085281 0.69227726]\n",
            " [0.62959884 0.803081   0.94028308 0.93727915]\n",
            " [0.75799353 0.96953036 0.99869111 0.87253692]\n",
            " [0.97208815 0.9467372  0.99453827 0.95700093]]\n",
            "Seno de array2:\n",
            " [[0.59174452 0.69528329 0.62973311 0.7566313 ]\n",
            " [0.30428727 0.5881403  0.38038819 0.7444749 ]\n",
            " [0.23323158 0.12560655 0.69132868 0.6110109 ]\n",
            " [0.59694652 0.78658797 0.83861446 0.76333289]]\n",
            "Coseno de array2:\n",
            " [[0.80612556 0.7187358  0.77681157 0.65384178]\n",
            " [0.95258032 0.80875892 0.92482692 0.66765045]\n",
            " [0.97242122 0.99208013 0.72254042 0.79162218]\n",
            " [0.80228103 0.61747823 0.54472543 0.64600534]]\n"
          ]
        }
      ]
    },
    {
      "cell_type": "markdown",
      "source": [
        "Comparaciones de matrices"
      ],
      "metadata": {
        "id": "FoYMzWdjy01E"
      }
    },
    {
      "cell_type": "code",
      "source": [
        "import numpy as np\n",
        "\n",
        "array1 = np.array([[1, 2], [3, 4]])\n",
        "array2 = np.array([[2, 2], [1, 5]])\n",
        "\n",
        "comparacion = array1 == array2\n",
        "print(comparacion)"
      ],
      "metadata": {
        "colab": {
          "base_uri": "https://localhost:8080/"
        },
        "id": "J44ojnsVy0Ec",
        "outputId": "420f17d5-7da6-4d82-be93-786012ddd88c"
      },
      "execution_count": 52,
      "outputs": [
        {
          "output_type": "stream",
          "name": "stdout",
          "text": [
            "[[False  True]\n",
            " [False False]]\n"
          ]
        }
      ]
    },
    {
      "cell_type": "code",
      "source": [
        "import numpy as np\n",
        "\n",
        "array1 = np.array([[1, 2], [3, 4]])\n",
        "array2 = np.array([[2, 2], [1, 5]])\n",
        "\n",
        "comparacion = array1 == array2\n",
        "print(comparacion)\n",
        "print(array1 != array2)  # Elementos diferentes\n",
        "print(array1 < array2)   # Elementos donde array1 es menor\n",
        "print(array1 >= array2)  # Elementos donde array1 es mayor o igual"
      ],
      "metadata": {
        "colab": {
          "base_uri": "https://localhost:8080/"
        },
        "id": "1nMZC470zGgk",
        "outputId": "649a2287-9ead-42a6-cc19-be71a9d6cb85"
      },
      "execution_count": 53,
      "outputs": [
        {
          "output_type": "stream",
          "name": "stdout",
          "text": [
            "[[False  True]\n",
            " [False False]]\n",
            "[[ True False]\n",
            " [ True  True]]\n",
            "[[ True False]\n",
            " [False  True]]\n",
            "[[False  True]\n",
            " [ True False]]\n"
          ]
        }
      ]
    },
    {
      "cell_type": "markdown",
      "source": [
        "Estadisticas y funciones"
      ],
      "metadata": {
        "id": "U_fbFVZZz01V"
      }
    },
    {
      "cell_type": "code",
      "source": [
        "import numpy as np\n",
        "\n",
        "array6 = np.random.random((5, 5))\n",
        "print(array6)"
      ],
      "metadata": {
        "colab": {
          "base_uri": "https://localhost:8080/"
        },
        "id": "VWuoIBwJz35-",
        "outputId": "517fe881-0194-4e3d-e14a-007d01547b34"
      },
      "execution_count": 54,
      "outputs": [
        {
          "output_type": "stream",
          "name": "stdout",
          "text": [
            "[[0.63580349 0.83098867 0.33288382 0.53404241 0.09311925]\n",
            " [0.48786961 0.72418754 0.90217455 0.27423426 0.13029746]\n",
            " [0.65371139 0.9169957  0.38400952 0.10651831 0.09682894]\n",
            " [0.06223848 0.66691715 0.91960757 0.68190992 0.32799707]\n",
            " [0.82895388 0.20252393 0.90099417 0.70990655 0.41540637]]\n"
          ]
        }
      ]
    },
    {
      "cell_type": "code",
      "source": [
        "sumatotal=array6.sum()\n",
        "print(sumatotal)"
      ],
      "metadata": {
        "colab": {
          "base_uri": "https://localhost:8080/"
        },
        "id": "4YVjneZr0xJV",
        "outputId": "a1662d4c-c0e5-4ba4-a521-1ad4d3894253"
      },
      "execution_count": 55,
      "outputs": [
        {
          "output_type": "stream",
          "name": "stdout",
          "text": [
            "12.820119996056077\n"
          ]
        }
      ]
    },
    {
      "cell_type": "code",
      "source": [
        "maximo = np.max(array6)\n",
        "minimo = np.min(array6)\n",
        "promedio = np.mean(array6)\n",
        "\n",
        "suma = maximo + minimo + promedio\n",
        "print(\"Máximo:\", maximo)\n",
        "print(\"Mínimo:\", minimo)\n",
        "print(\"Promedio:\", promedio)\n",
        "print(\"Suma de máximo + mínimo + promedio:\", suma)"
      ],
      "metadata": {
        "colab": {
          "base_uri": "https://localhost:8080/"
        },
        "id": "aPuwQZtn1AhU",
        "outputId": "f648bd49-35bb-4f4d-f4a6-a7adf371f878"
      },
      "execution_count": 56,
      "outputs": [
        {
          "output_type": "stream",
          "name": "stdout",
          "text": [
            "Máximo: 0.9196075703791067\n",
            "Mínimo: 0.06223848019361322\n",
            "Promedio: 0.512804799842243\n",
            "Suma de máximo + mínimo + promedio: 1.494650850414963\n"
          ]
        }
      ]
    },
    {
      "cell_type": "code",
      "source": [
        "import numpy as np\n",
        "\n",
        "array6 = np.random.random((5, 5))\n",
        "print(\"Array6:\\n\", array6)\n",
        "\n",
        "max_por_fila = np.max(array6, axis=1)\n",
        "min_por_fila = np.min(array6, axis=1)\n",
        "\n",
        "print(\"Máximo por fila:\", max_por_fila)\n",
        "print(\"Mínimo por fila:\", min_por_fila)"
      ],
      "metadata": {
        "colab": {
          "base_uri": "https://localhost:8080/"
        },
        "id": "UTtD4Igc1byk",
        "outputId": "1b896b37-ae66-48d0-bd52-4a47290c31c5"
      },
      "execution_count": 57,
      "outputs": [
        {
          "output_type": "stream",
          "name": "stdout",
          "text": [
            "Array6:\n",
            " [[0.02652895 0.55525688 0.1152955  0.98998886 0.94199021]\n",
            " [0.90607246 0.49997372 0.22549601 0.13170497 0.07916599]\n",
            " [0.23433449 0.64622259 0.59094536 0.02178434 0.73459955]\n",
            " [0.62877381 0.68087772 0.95763456 0.7823023  0.29976098]\n",
            " [0.80102114 0.42127675 0.67637682 0.6643943  0.82155913]]\n",
            "Máximo por fila: [0.98998886 0.90607246 0.73459955 0.95763456 0.82155913]\n",
            "Mínimo por fila: [0.02652895 0.07916599 0.02178434 0.29976098 0.42127675]\n"
          ]
        }
      ]
    },
    {
      "cell_type": "code",
      "source": [
        "#media aritmetica\n",
        "import numpy as np\n",
        "\n",
        "array6 = np.random.random((5, 5))\n",
        "print(\"Array6:\\n\", array6)\n",
        "\n",
        "media = np.mean(array6)\n",
        "mediana = np.median(array6)\n",
        "\n",
        "print(\"Media (promedio) del array6:\", media)\n",
        "print(\"Mediana del array6:\", mediana)\n"
      ],
      "metadata": {
        "colab": {
          "base_uri": "https://localhost:8080/"
        },
        "id": "-D-tNFQr15eN",
        "outputId": "7e3b3055-7421-4212-9114-f264fbf8386c"
      },
      "execution_count": 58,
      "outputs": [
        {
          "output_type": "stream",
          "name": "stdout",
          "text": [
            "Array6:\n",
            " [[0.62950514 0.05403749 0.61257305 0.5100119  0.89791065]\n",
            " [0.31502889 0.33192865 0.40722591 0.04149982 0.21107899]\n",
            " [0.99990894 0.19286684 0.84421891 0.65660251 0.85511146]\n",
            " [0.8964414  0.85130764 0.00558981 0.81978881 0.21542368]\n",
            " [0.31786599 0.35734728 0.27264882 0.08978684 0.20635266]]\n",
            "Media (promedio) del array6: 0.463682482739816\n",
            "Mediana del array6: 0.3573472752115159\n"
          ]
        }
      ]
    }
  ]
}