{
  "nbformat": 4,
  "nbformat_minor": 0,
  "metadata": {
    "colab": {
      "provenance": [],
      "authorship_tag": "ABX9TyNFqMEyJLJYcn1r6sJ1a8JZ",
      "include_colab_link": true
    },
    "kernelspec": {
      "name": "python3",
      "display_name": "Python 3"
    },
    "language_info": {
      "name": "python"
    }
  },
  "cells": [
    {
      "cell_type": "markdown",
      "metadata": {
        "id": "view-in-github",
        "colab_type": "text"
      },
      "source": [
        "<a href=\"https://colab.research.google.com/github/Joss5499/Ejercicios/blob/main/EjerciciosBasicos.ipynb\" target=\"_parent\"><img src=\"https://colab.research.google.com/assets/colab-badge.svg\" alt=\"Open In Colab\"/></a>"
      ]
    },
    {
      "cell_type": "code",
      "execution_count": null,
      "metadata": {
        "id": "12DsHpIKtdp0"
      },
      "outputs": [],
      "source": []
    },
    {
      "cell_type": "markdown",
      "source": [
        "Numpy - Libreria - Ciencia de datos"
      ],
      "metadata": {
        "id": "_o7BT-ThuB_j"
      }
    },
    {
      "cell_type": "code",
      "source": [
        "import numpy as np\n",
        "!pip install numpy"
      ],
      "metadata": {
        "colab": {
          "base_uri": "https://localhost:8080/"
        },
        "id": "YxF6G3jtujHh",
        "outputId": "b4e22748-9fc0-49b6-c452-129018188aa7"
      },
      "execution_count": 1,
      "outputs": [
        {
          "output_type": "stream",
          "name": "stdout",
          "text": [
            "Requirement already satisfied: numpy in /usr/local/lib/python3.11/dist-packages (2.0.2)\n"
          ]
        }
      ]
    },
    {
      "cell_type": "markdown",
      "source": [
        "Array de 1 Dimension"
      ],
      "metadata": {
        "id": "jHSBm5zow5EY"
      }
    },
    {
      "cell_type": "code",
      "source": [
        "array_id = np.array([10, 20, 30])\n",
        "print(array_id)"
      ],
      "metadata": {
        "colab": {
          "base_uri": "https://localhost:8080/"
        },
        "id": "9NP5Rugmv2eq",
        "outputId": "cc1e4b06-16d2-46b2-ca8d-0b85ff6d1ae0"
      },
      "execution_count": 3,
      "outputs": [
        {
          "output_type": "stream",
          "name": "stdout",
          "text": [
            "[10 20 30]\n"
          ]
        }
      ]
    },
    {
      "cell_type": "code",
      "source": [
        "array_id"
      ],
      "metadata": {
        "colab": {
          "base_uri": "https://localhost:8080/"
        },
        "id": "YpLziYeGwlf6",
        "outputId": "fe5f42a5-ca04-4b47-9f10-d1e05b9e8260"
      },
      "execution_count": 4,
      "outputs": [
        {
          "output_type": "execute_result",
          "data": {
            "text/plain": [
              "array([10, 20, 30])"
            ]
          },
          "metadata": {},
          "execution_count": 4
        }
      ]
    },
    {
      "cell_type": "markdown",
      "source": [
        "Array de 2 Dimensiones"
      ],
      "metadata": {
        "id": "5ZnoZ5RhwyP4"
      }
    },
    {
      "cell_type": "code",
      "source": [
        "array_2d = np.array([(10, 20, 30), (50, 60, 70)])  # Las dos filas tienen 3 elementos\n",
        "print(array_2d)"
      ],
      "metadata": {
        "colab": {
          "base_uri": "https://localhost:8080/"
        },
        "id": "3Kad5Bn8xCPw",
        "outputId": "126d146b-e389-43b9-aa02-e22b6991f361"
      },
      "execution_count": 7,
      "outputs": [
        {
          "output_type": "stream",
          "name": "stdout",
          "text": [
            "[[10 20 30]\n",
            " [50 60 70]]\n"
          ]
        }
      ]
    },
    {
      "cell_type": "markdown",
      "source": [
        "Array de tres Dimensiones"
      ],
      "metadata": {
        "id": "4EVfxq4ox1Vo"
      }
    },
    {
      "cell_type": "code",
      "source": [
        "array_3d = np.array([[[1, 2, 3], [5, 6, 7], [9, 10, 11]],\n",
        "                     [[13, 14, 15], [17, 18, 19], [21, 22, 23]]],dtype=float)\n",
        "\n",
        "print(array_3d)"
      ],
      "metadata": {
        "colab": {
          "base_uri": "https://localhost:8080/"
        },
        "id": "9KUhAkzax3Sn",
        "outputId": "ed383c55-81b2-4e7e-cf36-cdef8d2152f4"
      },
      "execution_count": 9,
      "outputs": [
        {
          "output_type": "stream",
          "name": "stdout",
          "text": [
            "[[[ 1  2  3]\n",
            "  [ 5  6  7]\n",
            "  [ 9 10 11]]\n",
            "\n",
            " [[13 14 15]\n",
            "  [17 18 19]\n",
            "  [21 22 23]]]\n"
          ]
        }
      ]
    },
    {
      "cell_type": "markdown",
      "source": [
        "Array con 0 y de 3 filas y 4 columnas"
      ],
      "metadata": {
        "id": "A74hKE0c4VYU"
      }
    },
    {
      "cell_type": "code",
      "source": [
        "array_zeros = np.zeros((3, 4))\n",
        "\n",
        "print(array_zeros)"
      ],
      "metadata": {
        "colab": {
          "base_uri": "https://localhost:8080/"
        },
        "id": "HvlyQzb14cic",
        "outputId": "f8363b69-b673-4b17-b918-23be7e586904"
      },
      "execution_count": 10,
      "outputs": [
        {
          "output_type": "stream",
          "name": "stdout",
          "text": [
            "[[0. 0. 0. 0.]\n",
            " [0. 0. 0. 0.]\n",
            " [0. 0. 0. 0.]]\n"
          ]
        }
      ]
    },
    {
      "cell_type": "markdown",
      "source": [
        "Array con 1  de 4 filas y 5 columnas"
      ],
      "metadata": {
        "id": "7X9Tq9sY45Qz"
      }
    },
    {
      "cell_type": "code",
      "source": [
        "array_ones = np.ones((4, 5))\n",
        "\n",
        "print(array_ones)"
      ],
      "metadata": {
        "colab": {
          "base_uri": "https://localhost:8080/"
        },
        "id": "gduv1Y7a49y8",
        "outputId": "35345727-ab2f-42ce-e22b-454918ea4621"
      },
      "execution_count": 11,
      "outputs": [
        {
          "output_type": "stream",
          "name": "stdout",
          "text": [
            "[[1. 1. 1. 1. 1.]\n",
            " [1. 1. 1. 1. 1.]\n",
            " [1. 1. 1. 1. 1.]\n",
            " [1. 1. 1. 1. 1.]]\n"
          ]
        }
      ]
    },
    {
      "cell_type": "markdown",
      "source": [
        "Array con intervalos y saltos"
      ],
      "metadata": {
        "id": "EcLZHdrF5Wgz"
      }
    },
    {
      "cell_type": "code",
      "source": [
        "array_intervalos = np.arange(0, 20, 2)\n",
        "\n",
        "print(array_intervalos)"
      ],
      "metadata": {
        "colab": {
          "base_uri": "https://localhost:8080/"
        },
        "id": "xvNWixGy5ad6",
        "outputId": "0b7727a8-9b91-4c9d-f870-8cfaba032091"
      },
      "execution_count": 12,
      "outputs": [
        {
          "output_type": "stream",
          "name": "stdout",
          "text": [
            "[ 0  2  4  6  8 10 12 14 16 18]\n"
          ]
        }
      ]
    },
    {
      "cell_type": "markdown",
      "source": [
        "array de rango de edad de 15 a 30 años cuales son los numeros primos"
      ],
      "metadata": {
        "id": "eA8O4qDd6AT7"
      }
    },
    {
      "cell_type": "code",
      "source": [
        "import numpy as np\n",
        "\n",
        "# Rango de edades de 15 a 30\n",
        "rango_edades = np.arange(15, 31)\n",
        "\n",
        "# Funcion para verificar si un nmero es primo\n",
        "def es_primo(n):\n",
        "    if n <= 1:\n",
        "        return False\n",
        "    for i in range(2, int(np.sqrt(n)) + 1):  # solo necesitamos verificar hasta la raiz cuadrada de n\n",
        "        if n % i == 0:\n",
        "            return False\n",
        "    return True\n",
        "\n",
        "# Filtrar los numeros primos en el rango de edades y convertirlos a enteros normales de Python\n",
        "numeros_primos = [int(edad) for edad in rango_edades if es_primo(edad)]\n",
        "\n",
        "print(\"Números primos en el rango de 15 a 30:\", numeros_primos)\n"
      ],
      "metadata": {
        "colab": {
          "base_uri": "https://localhost:8080/"
        },
        "id": "NbfHekJn6NAb",
        "outputId": "95a99cc4-68ce-4d07-d08e-2f3e8dae6e90"
      },
      "execution_count": 15,
      "outputs": [
        {
          "output_type": "stream",
          "name": "stdout",
          "text": [
            "Números primos en el rango de 15 a 30: [17, 19, 23, 29]\n"
          ]
        }
      ]
    },
    {
      "cell_type": "markdown",
      "source": [
        "Array con intervalos y divisiones"
      ],
      "metadata": {
        "id": "DMd65LIL8AOC"
      }
    },
    {
      "cell_type": "code",
      "source": [
        "import numpy as np\n",
        "\n",
        "# Crear un array con 5 números igualmente espaciados entre 0 y 1\n",
        "array_intervalos_divisiones = np.linspace(0, 1, 5)\n",
        "\n",
        "print(array_intervalos_divisiones)\n"
      ],
      "metadata": {
        "colab": {
          "base_uri": "https://localhost:8080/"
        },
        "id": "fhlnsfrk8DHy",
        "outputId": "bb242563-3a0f-4b15-8b35-c61f6b97f0e0"
      },
      "execution_count": 16,
      "outputs": [
        {
          "output_type": "stream",
          "name": "stdout",
          "text": [
            "[0.   0.25 0.5  0.75 1.  ]\n"
          ]
        }
      ]
    },
    {
      "cell_type": "markdown",
      "source": [
        "array con matriz identidad, diagonal de unos"
      ],
      "metadata": {
        "id": "oXl_WKDb8l0B"
      }
    },
    {
      "cell_type": "code",
      "source": [
        "import numpy as np\n",
        "\n",
        "# Crear una matriz identidad de 3x3\n",
        "matriz_identidad = np.eye(3, dtype=int)\n",
        "\n",
        "print(matriz_identidad)\n"
      ],
      "metadata": {
        "colab": {
          "base_uri": "https://localhost:8080/"
        },
        "id": "GtJtPYSw8o_6",
        "outputId": "996408e3-5751-4d53-e66a-c48a41466b80"
      },
      "execution_count": 17,
      "outputs": [
        {
          "output_type": "stream",
          "name": "stdout",
          "text": [
            "[[1 0 0]\n",
            " [0 1 0]\n",
            " [0 0 1]]\n"
          ]
        }
      ]
    },
    {
      "cell_type": "markdown",
      "source": [
        "array con matriz identidad. diagonal de ceros"
      ],
      "metadata": {
        "id": "lfWZmBMM9xX5"
      }
    },
    {
      "cell_type": "code",
      "source": [
        "import numpy as np\n",
        "\n",
        "# para una matriz 4x4 de unos\n",
        "matriz = np.ones((4, 4), dtype=int)\n",
        "\n",
        "# para rellenar la diagonal con ceros\n",
        "np.fill_diagonal(matriz, 0)\n",
        "\n",
        "print(matriz)"
      ],
      "metadata": {
        "colab": {
          "base_uri": "https://localhost:8080/"
        },
        "id": "m5mTsHg9933Z",
        "outputId": "c4ca5870-a8a0-4562-e98a-1c16abcfdc16"
      },
      "execution_count": 18,
      "outputs": [
        {
          "output_type": "stream",
          "name": "stdout",
          "text": [
            "[[0 1 1 1]\n",
            " [1 0 1 1]\n",
            " [1 1 0 1]\n",
            " [1 1 1 0]]\n"
          ]
        }
      ]
    },
    {
      "cell_type": "markdown",
      "source": [
        "array  valores aleatorios de 0 - 1"
      ],
      "metadata": {
        "id": "PF1YJB7V-e5p"
      }
    },
    {
      "cell_type": "markdown",
      "source": [],
      "metadata": {
        "id": "8rmTckf0_YcI"
      }
    },
    {
      "cell_type": "code",
      "source": [
        "import numpy as np\n",
        "\n",
        "# Crear un array 1D de 5 valores aleatorios entre 0 y 1\n",
        "array_aleatorio_1d = np.random.rand(5)\n",
        "\n",
        "print(array_aleatorio_1d)\n"
      ],
      "metadata": {
        "colab": {
          "base_uri": "https://localhost:8080/"
        },
        "id": "MvAxN0d5-koQ",
        "outputId": "a57e07c8-5c63-4812-f372-2e3d9c3ba6ce"
      },
      "execution_count": 21,
      "outputs": [
        {
          "output_type": "stream",
          "name": "stdout",
          "text": [
            "[0.49727553 0.88997752 0.6838338  0.81449935 0.4983308 ]\n"
          ]
        }
      ]
    },
    {
      "cell_type": "markdown",
      "source": [
        "array de numeros vacios de 4x3"
      ],
      "metadata": {
        "id": "QrHMBDZ-_Dq3"
      }
    },
    {
      "cell_type": "code",
      "source": [
        "import numpy as np\n",
        "\n",
        "# Crear un array vacío de 4x3\n",
        "array_vacio = np.empty((4, 3))\n",
        "\n",
        "print(array_vacio)\n"
      ],
      "metadata": {
        "colab": {
          "base_uri": "https://localhost:8080/"
        },
        "id": "kGcSL2u6_Luw",
        "outputId": "e4d45236-3cd3-4c9c-f0b0-9f1f58974a74"
      },
      "execution_count": 22,
      "outputs": [
        {
          "output_type": "stream",
          "name": "stdout",
          "text": [
            "[[0. 0. 0.]\n",
            " [0. 0. 0.]\n",
            " [0. 0. 0.]\n",
            " [0. 0. 0.]]\n"
          ]
        }
      ]
    }
  ]
}