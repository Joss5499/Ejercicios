{
  "nbformat": 4,
  "nbformat_minor": 0,
  "metadata": {
    "colab": {
      "provenance": [],
      "authorship_tag": "ABX9TyOO2o+ltL9g9kS57CNb3GQd",
      "include_colab_link": true
    },
    "kernelspec": {
      "name": "python3",
      "display_name": "Python 3"
    },
    "language_info": {
      "name": "python"
    }
  },
  "cells": [
    {
      "cell_type": "markdown",
      "metadata": {
        "id": "view-in-github",
        "colab_type": "text"
      },
      "source": [
        "<a href=\"https://colab.research.google.com/github/Joss5499/Ejercicios/blob/main/EjerciciosPropuestos.ipynb\" target=\"_parent\"><img src=\"https://colab.research.google.com/assets/colab-badge.svg\" alt=\"Open In Colab\"/></a>"
      ]
    },
    {
      "cell_type": "markdown",
      "source": [
        "Ejercicio 1"
      ],
      "metadata": {
        "id": "Hw2bTSsKIrYr"
      }
    },
    {
      "cell_type": "code",
      "execution_count": 1,
      "metadata": {
        "colab": {
          "base_uri": "https://localhost:8080/"
        },
        "id": "7djMcTmkIoFb",
        "outputId": "2d6ef329-4bda-4931-ce3d-bb1e98d4d285"
      },
      "outputs": [
        {
          "output_type": "stream",
          "name": "stdout",
          "text": [
            "['Matemáticas', 'Física', 'Química', 'Historia', 'Lengua']\n"
          ]
        }
      ],
      "source": [
        "# Ejercicio 1\n",
        "asignaturas = [\"Matemáticas\", \"Física\", \"Química\", \"Historia\", \"Lengua\"]\n",
        "print(asignaturas)\n"
      ]
    },
    {
      "cell_type": "markdown",
      "source": [
        "Ejercicio 2"
      ],
      "metadata": {
        "id": "OxKnkqh0Iyoh"
      }
    },
    {
      "cell_type": "code",
      "source": [
        "# Ejercicio 2\n",
        "asignaturas = [\"Matemáticas\", \"Física\", \"Química\", \"Historia\", \"Lengua\"]\n",
        "for asignatura in asignaturas:\n",
        "    print(f\"Yo estudio {asignatura}\")"
      ],
      "metadata": {
        "colab": {
          "base_uri": "https://localhost:8080/"
        },
        "id": "M5M0bfwXI02Z",
        "outputId": "20afbb8d-236b-40ea-aa6b-4a2d5153958e"
      },
      "execution_count": 2,
      "outputs": [
        {
          "output_type": "stream",
          "name": "stdout",
          "text": [
            "Yo estudio Matemáticas\n",
            "Yo estudio Física\n",
            "Yo estudio Química\n",
            "Yo estudio Historia\n",
            "Yo estudio Lengua\n"
          ]
        }
      ]
    },
    {
      "cell_type": "markdown",
      "source": [
        "Ejercicio 3"
      ],
      "metadata": {
        "id": "5cgOwhghJAFh"
      }
    },
    {
      "cell_type": "code",
      "source": [
        "# Ejercicio 3\n",
        "asignaturas = [\"Matemáticas\", \"Física\", \"Química\", \"Historia\", \"Lengua\"]\n",
        "notas = []\n",
        "\n",
        "# Preguntar al usuario por las notas\n",
        "for asignatura in asignaturas:\n",
        "    nota = float(input(f\"¿Qué nota has sacado en {asignatura}? \"))\n",
        "    notas.append(nota)\n",
        "\n",
        "# Mostrar las asignaturas con sus notas\n",
        "for i in range(len(asignaturas)):\n",
        "    print(f\"En {asignaturas[i]} has sacado {notas[i]}\")\n"
      ],
      "metadata": {
        "colab": {
          "base_uri": "https://localhost:8080/"
        },
        "id": "Muf_4E_9JD44",
        "outputId": "800ab059-2a65-4836-9e01-d860585f8697"
      },
      "execution_count": 3,
      "outputs": [
        {
          "output_type": "stream",
          "name": "stdout",
          "text": [
            "¿Qué nota has sacado en Matemáticas? 11\n",
            "¿Qué nota has sacado en Física? 12\n",
            "¿Qué nota has sacado en Química? 14\n",
            "¿Qué nota has sacado en Historia? 10\n",
            "¿Qué nota has sacado en Lengua? 15\n",
            "En Matemáticas has sacado 11.0\n",
            "En Física has sacado 12.0\n",
            "En Química has sacado 14.0\n",
            "En Historia has sacado 10.0\n",
            "En Lengua has sacado 15.0\n"
          ]
        }
      ]
    },
    {
      "cell_type": "markdown",
      "source": [
        "Ejercicio 4"
      ],
      "metadata": {
        "id": "eJlA9CFiJVXB"
      }
    },
    {
      "cell_type": "code",
      "source": [
        "# Ejercicio 4\n",
        "numeros = list(map(int, input(\"Introduce los números ganadores de la lotería separados por comas: \").split(',')))\n",
        "numeros.sort()\n",
        "print(\"Los números ganadores ordenados son:\", numeros)\n"
      ],
      "metadata": {
        "colab": {
          "base_uri": "https://localhost:8080/"
        },
        "id": "s6ByBQrhJXOB",
        "outputId": "f1f53fec-1e67-4d7e-ff68-2b1cad25334b"
      },
      "execution_count": 5,
      "outputs": [
        {
          "output_type": "stream",
          "name": "stdout",
          "text": [
            "Introduce los números ganadores de la lotería separados por comas: 5,3,9,2\n",
            "Los números ganadores ordenados son: [2, 3, 5, 9]\n"
          ]
        }
      ]
    },
    {
      "cell_type": "markdown",
      "source": [
        "Ejercicio 5"
      ],
      "metadata": {
        "id": "85Oiu0AlJoCR"
      }
    },
    {
      "cell_type": "code",
      "source": [
        "# Ejercicio 5\n",
        "numeros = list(range(1, 11))\n",
        "numeros.reverse()\n",
        "print(', '.join(map(str, numeros)))\n"
      ],
      "metadata": {
        "colab": {
          "base_uri": "https://localhost:8080/"
        },
        "id": "NpipnS5hJqPy",
        "outputId": "076e558a-f856-403f-af77-a10e838aac63"
      },
      "execution_count": 6,
      "outputs": [
        {
          "output_type": "stream",
          "name": "stdout",
          "text": [
            "10, 9, 8, 7, 6, 5, 4, 3, 2, 1\n"
          ]
        }
      ]
    },
    {
      "cell_type": "markdown",
      "source": [
        "Ejercicio 6"
      ],
      "metadata": {
        "id": "I80rmNGCJxyx"
      }
    },
    {
      "cell_type": "code",
      "source": [
        "# Ejercicio 6\n",
        "asignaturas = [\"Matemáticas\", \"Física\", \"Química\", \"Historia\", \"Lengua\"]\n",
        "notas = []\n",
        "\n",
        "# Preguntar por las notas\n",
        "for asignatura in asignaturas:\n",
        "    nota = float(input(f\"¿Qué nota has sacado en {asignatura}? \"))\n",
        "    notas.append(nota)\n",
        "\n",
        "# Eliminar las asignaturas aprobadas\n",
        "repetir = []\n",
        "for i in range(len(asignaturas)):\n",
        "    if notas[i] < 5:\n",
        "        repetir.append(asignaturas[i])\n",
        "\n",
        "print(\"Las asignaturas que tienes que repetir son:\", repetir)\n"
      ],
      "metadata": {
        "colab": {
          "base_uri": "https://localhost:8080/"
        },
        "id": "SgfeAPogJ0gZ",
        "outputId": "89b5b5cb-c556-4888-ebdc-361ed041cb2c"
      },
      "execution_count": 7,
      "outputs": [
        {
          "output_type": "stream",
          "name": "stdout",
          "text": [
            "¿Qué nota has sacado en Matemáticas? 12\n",
            "¿Qué nota has sacado en Física? 13\n",
            "¿Qué nota has sacado en Química? 11\n",
            "¿Qué nota has sacado en Historia? 15\n",
            "¿Qué nota has sacado en Lengua? 17\n",
            "Las asignaturas que tienes que repetir son: []\n"
          ]
        }
      ]
    },
    {
      "cell_type": "markdown",
      "source": [
        "Ejercicio 7"
      ],
      "metadata": {
        "id": "xfIczj0nKIE4"
      }
    },
    {
      "cell_type": "code",
      "source": [
        "# Ejercicio 7\n",
        "abecedario = list(\"abcdefghijklmnopqrstuvwxyz\")\n",
        "\n",
        "# Eliminar letras en posiciones múltiplos de 3 (índices 0, 3, 6, 9, etc.)\n",
        "abecedario = [letra for i, letra in enumerate(abecedario) if (i + 1) % 3 != 0]\n",
        "\n",
        "print(\"Lista resultante:\", abecedario)\n"
      ],
      "metadata": {
        "colab": {
          "base_uri": "https://localhost:8080/"
        },
        "id": "j3ZVTvDZKJeB",
        "outputId": "e72b0cd0-4de3-4541-9663-9289fa3f0d91"
      },
      "execution_count": 8,
      "outputs": [
        {
          "output_type": "stream",
          "name": "stdout",
          "text": [
            "Lista resultante: ['a', 'b', 'd', 'e', 'g', 'h', 'j', 'k', 'm', 'n', 'p', 'q', 's', 't', 'v', 'w', 'y', 'z']\n"
          ]
        }
      ]
    },
    {
      "cell_type": "markdown",
      "source": [
        "Ejercicio 8"
      ],
      "metadata": {
        "id": "kd8dJUEjKNnB"
      }
    },
    {
      "cell_type": "code",
      "source": [
        "# Ejercicio 8\n",
        "palabra = input(\"Introduce una palabra: \")\n",
        "\n",
        "# Comprobar si es un palíndromo\n",
        "if palabra == palabra[::-1]:\n",
        "    print(\"La palabra es un palíndromo.\")\n",
        "else:\n",
        "    print(\"La palabra no es un palíndromo.\")\n"
      ],
      "metadata": {
        "colab": {
          "base_uri": "https://localhost:8080/"
        },
        "id": "Hdjm8Zg0KPJZ",
        "outputId": "d475b868-60e7-4102-9691-26b0ef86ac1e"
      },
      "execution_count": 10,
      "outputs": [
        {
          "output_type": "stream",
          "name": "stdout",
          "text": [
            "Introduce una palabra: paracetamol\n",
            "La palabra no es un palíndromo.\n"
          ]
        }
      ]
    },
    {
      "cell_type": "markdown",
      "source": [
        "Ejercicio 9"
      ],
      "metadata": {
        "id": "UctXbQEiKk04"
      }
    },
    {
      "cell_type": "code",
      "source": [
        "# Ejercicio 9\n",
        "palabra = input(\"Introduce una palabra: \").lower()\n",
        "vocales = \"aeiou\"\n",
        "conteo_vocales = {vocal: palabra.count(vocal) for vocal in vocales}\n",
        "\n",
        "for vocal, conteo in conteo_vocales.items():\n",
        "    print(f\"La vocal '{vocal}' aparece {conteo} veces.\")\n"
      ],
      "metadata": {
        "colab": {
          "base_uri": "https://localhost:8080/"
        },
        "id": "fb93AgJ8Kosv",
        "outputId": "54b65be4-0248-4dce-8820-7cf0279abb65"
      },
      "execution_count": 11,
      "outputs": [
        {
          "output_type": "stream",
          "name": "stdout",
          "text": [
            "Introduce una palabra: casa\n",
            "La vocal 'a' aparece 2 veces.\n",
            "La vocal 'e' aparece 0 veces.\n",
            "La vocal 'i' aparece 0 veces.\n",
            "La vocal 'o' aparece 0 veces.\n",
            "La vocal 'u' aparece 0 veces.\n"
          ]
        }
      ]
    },
    {
      "cell_type": "markdown",
      "source": [
        "Ejercicio 10"
      ],
      "metadata": {
        "id": "dMK9BGIrKuuY"
      }
    },
    {
      "cell_type": "code",
      "source": [
        "# Ejercicio 10\n",
        "precios = [50, 75, 46, 22, 80, 65, 8]\n",
        "\n",
        "# Mostrar el menor y mayor precio\n",
        "print(\"El precio menor es:\", min(precios))\n",
        "print(\"El precio mayor es:\", max(precios))\n"
      ],
      "metadata": {
        "colab": {
          "base_uri": "https://localhost:8080/"
        },
        "id": "3Iu1LFewKwiQ",
        "outputId": "f1b80f1f-6925-40a2-80f7-4e6b32899a88"
      },
      "execution_count": 12,
      "outputs": [
        {
          "output_type": "stream",
          "name": "stdout",
          "text": [
            "El precio menor es: 8\n",
            "El precio mayor es: 80\n"
          ]
        }
      ]
    },
    {
      "cell_type": "markdown",
      "source": [
        "Ejercicio 11"
      ],
      "metadata": {
        "id": "tKLDir7xK1AY"
      }
    },
    {
      "cell_type": "code",
      "source": [
        "# Ejercicio 11\n",
        "vector1 = [1, 2, 3]\n",
        "vector2 = [-1, 0, 2]\n",
        "\n",
        "# Producto escalar\n",
        "producto_escalar = sum([vector1[i] * vector2[i] for i in range(len(vector1))])\n",
        "print(\"El producto escalar de los vectores es:\", producto_escalar)\n"
      ],
      "metadata": {
        "colab": {
          "base_uri": "https://localhost:8080/"
        },
        "id": "y6aflAH6K324",
        "outputId": "c61f4c60-6e1f-49e3-ecc6-093b795e9108"
      },
      "execution_count": 13,
      "outputs": [
        {
          "output_type": "stream",
          "name": "stdout",
          "text": [
            "El producto escalar de los vectores es: 5\n"
          ]
        }
      ]
    },
    {
      "cell_type": "markdown",
      "source": [
        "Ejercicio 12"
      ],
      "metadata": {
        "id": "l6s5a6pVK84o"
      }
    },
    {
      "cell_type": "code",
      "source": [
        "# Ejercicio 12\n",
        "# Definimos dos matrices 2x2\n",
        "A = [[1, 2], [3, 4]]\n",
        "B = [[5, 6], [7, 8]]\n",
        "\n",
        "# Producto de matrices 2x2\n",
        "producto = [[sum(a * b for a, b in zip(A_row, B_col)) for B_col in zip(*B)] for A_row in A]\n",
        "\n",
        "print(\"El producto de las matrices es:\")\n",
        "for fila in producto:\n",
        "    print(fila)\n"
      ],
      "metadata": {
        "colab": {
          "base_uri": "https://localhost:8080/"
        },
        "id": "wtbyUgGWK-Jw",
        "outputId": "c8e97a3b-509a-4de0-f71f-bd4727982d29"
      },
      "execution_count": 14,
      "outputs": [
        {
          "output_type": "stream",
          "name": "stdout",
          "text": [
            "El producto de las matrices es:\n",
            "[19, 22]\n",
            "[43, 50]\n"
          ]
        }
      ]
    },
    {
      "cell_type": "markdown",
      "source": [
        "Ejercicio 13"
      ],
      "metadata": {
        "id": "Vv6kXrTWLKsw"
      }
    },
    {
      "cell_type": "code",
      "source": [
        "# Ejercicio 13\n",
        "import numpy as np\n",
        "\n",
        "# Pedir números al usuario\n",
        "numeros = list(map(float, input(\"Introduce una serie de números separados por comas: \").split(',')))\n",
        "\n",
        "# Calcular la media y desviación típica\n",
        "media = np.mean(numeros)\n",
        "desviacion = np.std(numeros)\n",
        "\n",
        "print(f\"La media es: {media}\")\n",
        "print(f\"La desviación típica es: {desviacion}\")\n"
      ],
      "metadata": {
        "colab": {
          "base_uri": "https://localhost:8080/"
        },
        "id": "FEfKgdG9LMjY",
        "outputId": "fd6065d9-4153-4058-f091-8eb7e38066d1"
      },
      "execution_count": 15,
      "outputs": [
        {
          "output_type": "stream",
          "name": "stdout",
          "text": [
            "Introduce una serie de números separados por comas: 4,8,1,5,9\n",
            "La media es: 5.4\n",
            "La desviación típica es: 2.870540018881465\n"
          ]
        }
      ]
    },
    {
      "cell_type": "markdown",
      "source": [
        "Ejercicio 1: Guardar y cargar las asignaturas"
      ],
      "metadata": {
        "id": "Wp3vD7dCMV4_"
      }
    },
    {
      "cell_type": "code",
      "source": [
        "# Ejercicio 1\n",
        "import numpy as np\n",
        "\n",
        "# Lista de asignaturas\n",
        "asignaturas = [\"Matemáticas\", \"Física\", \"Química\", \"Historia\", \"Lengua\"]\n",
        "\n",
        "# Guardar en archivo \"ejercicio1.txt\"\n",
        "np.savetxt('ejercicio1.txt', asignaturas, fmt=\"%s\")\n",
        "\n",
        "# Cargar desde archivo y mostrar\n",
        "asignaturas_cargadas = np.loadtxt('ejercicio1.txt', dtype=str)\n",
        "print(asignaturas_cargadas)\n",
        "\n",
        "\n"
      ],
      "metadata": {
        "colab": {
          "base_uri": "https://localhost:8080/"
        },
        "id": "-N9-bcIBMXZH",
        "outputId": "cdf11d95-05c1-4417-a4cd-194e684a163e"
      },
      "execution_count": 20,
      "outputs": [
        {
          "output_type": "stream",
          "name": "stdout",
          "text": [
            "['Matemáticas' 'Física' 'Química' 'Historia' 'Lengua']\n"
          ]
        }
      ]
    },
    {
      "cell_type": "markdown",
      "source": [
        "Ejercicio 2: Guardar y cargar las asignaturas con el mensaje"
      ],
      "metadata": {
        "id": "8tk4zU8gNDqm"
      }
    },
    {
      "cell_type": "code",
      "source": [
        "# Ejercicio 2\n",
        "import numpy as np\n",
        "\n",
        "# Lista de asignaturas\n",
        "asignaturas = [\"Matemáticas\", \"Física\", \"Química\", \"Historia\", \"Lengua\"]\n",
        "\n",
        "# Guardar en archivo \"ejercicio2.txt\"\n",
        "np.savetxt('ejercicio2.txt', asignaturas, fmt=\"%s\")\n",
        "\n",
        "# Cargar desde archivo\n",
        "asignaturas_cargadas = np.loadtxt('ejercicio2.txt', dtype=str)\n",
        "\n",
        "# Mostrar mensaje con cada asignatura\n",
        "for asignatura in asignaturas_cargadas:\n",
        "    print(f\"Yo estudio {asignatura}\")\n",
        "\n"
      ],
      "metadata": {
        "colab": {
          "base_uri": "https://localhost:8080/"
        },
        "id": "4Uusrf4ANFau",
        "outputId": "921bbf1b-0c7a-48aa-e028-138571d3f9c4"
      },
      "execution_count": 21,
      "outputs": [
        {
          "output_type": "stream",
          "name": "stdout",
          "text": [
            "Yo estudio Matemáticas\n",
            "Yo estudio Física\n",
            "Yo estudio Química\n",
            "Yo estudio Historia\n",
            "Yo estudio Lengua\n"
          ]
        }
      ]
    },
    {
      "cell_type": "markdown",
      "source": [
        "Ejercicio 3: Guardar asignaturas y notas, y cargar para mostrar"
      ],
      "metadata": {
        "id": "JLvqZNjvNIeO"
      }
    },
    {
      "cell_type": "code",
      "source": [
        "# Ejercicio 3\n",
        "import numpy as np\n",
        "\n",
        "# Asignaturas y notas\n",
        "asignaturas = [\"Matemáticas\", \"Física\", \"Química\", \"Historia\", \"Lengua\"]\n",
        "notas = [8.5, 6.7, 7.4, 5.2, 9.0]\n",
        "\n",
        "# Guardar en archivo \"ejercicio3.txt\"\n",
        "np.savetxt('ejercicio3.txt', list(zip(asignaturas, notas)), fmt=\"%s, %.2f\")\n",
        "\n",
        "# Cargar desde archivo\n",
        "notas_cargadas = np.loadtxt('ejercicio3.txt', dtype=str, delimiter=',')\n",
        "\n",
        "# Mostrar las asignaturas con sus notas\n",
        "for asignatura, nota in notas_cargadas:\n",
        "    print(f\"En {asignatura} has sacado {nota}\")\n",
        "\n"
      ],
      "metadata": {
        "id": "JwnvLXEjNKLv"
      },
      "execution_count": null,
      "outputs": []
    },
    {
      "cell_type": "markdown",
      "source": [
        "Ejercicio 4: Números ganadores de la lotería"
      ],
      "metadata": {
        "id": "twA_Z0jHPCvH"
      }
    },
    {
      "cell_type": "code",
      "source": [
        "# Ejercicio 4\n",
        "import numpy as np\n",
        "\n",
        "# Números ganadores\n",
        "numeros_ganadores = [12, 4, 18, 23, 9, 5]\n",
        "\n",
        "# Guardar en archivo \"ejercicio4.txt\"\n",
        "np.savetxt('ejercicio4.txt', numeros_ganadores, fmt=\"%d\")\n",
        "\n",
        "# Cargar desde archivo\n",
        "numeros_cargados = np.loadtxt('ejercicio4.txt', dtype=int)\n",
        "\n",
        "# Ordenar los números\n",
        "numeros_cargados.sort()\n",
        "print(\"Números ganadores ordenados:\", numeros_cargados)\n"
      ],
      "metadata": {
        "colab": {
          "base_uri": "https://localhost:8080/"
        },
        "id": "CN_ROohmPEYm",
        "outputId": "2b9893b5-9c3e-4942-a896-562a3587870b"
      },
      "execution_count": 23,
      "outputs": [
        {
          "output_type": "stream",
          "name": "stdout",
          "text": [
            "Números ganadores ordenados: [ 4  5  9 12 18 23]\n"
          ]
        }
      ]
    },
    {
      "cell_type": "markdown",
      "source": [
        "Ejercicio 5: Números del 1 al 10 en orden inverso"
      ],
      "metadata": {
        "id": "iS-RZYCePGfW"
      }
    },
    {
      "cell_type": "code",
      "source": [
        "# Ejercicio 5\n",
        "import numpy as np\n",
        "\n",
        "# Números del 1 al 10\n",
        "numeros = list(range(1, 11))\n",
        "\n",
        "# Guardar en archivo \"ejercicio5.txt\"\n",
        "np.savetxt('ejercicio5.txt', numeros, fmt=\"%d\")\n",
        "\n",
        "# Cargar desde archivo\n",
        "numeros_cargados = np.loadtxt('ejercicio5.txt', dtype=int)\n",
        "\n",
        "# Invertir el orden\n",
        "numeros_cargados = numeros_cargados[::-1]\n",
        "print(\"Números en orden inverso:\", numeros_cargados)\n"
      ],
      "metadata": {
        "colab": {
          "base_uri": "https://localhost:8080/"
        },
        "id": "l_4nwgpIPKdm",
        "outputId": "c24938a1-2271-4a1d-d214-bb9f1e18ad22"
      },
      "execution_count": 24,
      "outputs": [
        {
          "output_type": "stream",
          "name": "stdout",
          "text": [
            "Números en orden inverso: [10  9  8  7  6  5  4  3  2  1]\n"
          ]
        }
      ]
    },
    {
      "cell_type": "markdown",
      "source": [
        "Ejercicio 6: Eliminar asignaturas aprobadas"
      ],
      "metadata": {
        "id": "sToJhVd0PQzF"
      }
    },
    {
      "cell_type": "code",
      "source": [
        "# Ejercicio 6\n",
        "import numpy as np\n",
        "\n",
        "# Asignaturas y notas\n",
        "asignaturas = [\"Matemáticas\", \"Física\", \"Química\", \"Historia\", \"Lengua\"]\n",
        "notas = [8.5, 3.2, 6.4, 4.8, 7.0]\n",
        "\n",
        "# Guardar en archivo \"ejercicio6.txt\"\n",
        "np.savetxt('ejercicio6.txt', list(zip(asignaturas, notas)), fmt=\"%s, %.2f\")\n",
        "\n",
        "# Cargar desde archivo\n",
        "notas_cargadas = np.loadtxt('ejercicio6.txt', dtype=str, delimiter=',')\n",
        "\n",
        "# Eliminar las asignaturas aprobadas (nota >= 5)\n",
        "repetir = [asignatura for asignatura, nota in notas_cargadas if float(nota) < 5]\n",
        "\n",
        "print(\"Asignaturas que debes repetir:\", repetir)\n"
      ],
      "metadata": {
        "colab": {
          "base_uri": "https://localhost:8080/",
          "height": 408
        },
        "id": "5OROr0bAPSWO",
        "outputId": "946a540a-45a2-4333-c20c-27551626bd47"
      },
      "execution_count": 25,
      "outputs": [
        {
          "output_type": "error",
          "ename": "TypeError",
          "evalue": "Mismatch between array dtype ('<U32') and format specifier ('%s, %.2f')",
          "traceback": [
            "\u001b[0;31m---------------------------------------------------------------------------\u001b[0m",
            "\u001b[0;31mTypeError\u001b[0m                                 Traceback (most recent call last)",
            "\u001b[0;32m/usr/local/lib/python3.11/dist-packages/numpy/lib/_npyio_impl.py\u001b[0m in \u001b[0;36msavetxt\u001b[0;34m(fname, X, fmt, delimiter, newline, header, footer, comments, encoding)\u001b[0m\n\u001b[1;32m   1625\u001b[0m                 \u001b[0;32mtry\u001b[0m\u001b[0;34m:\u001b[0m\u001b[0;34m\u001b[0m\u001b[0;34m\u001b[0m\u001b[0m\n\u001b[0;32m-> 1626\u001b[0;31m                     \u001b[0mv\u001b[0m \u001b[0;34m=\u001b[0m \u001b[0mformat\u001b[0m \u001b[0;34m%\u001b[0m \u001b[0mtuple\u001b[0m\u001b[0;34m(\u001b[0m\u001b[0mrow\u001b[0m\u001b[0;34m)\u001b[0m \u001b[0;34m+\u001b[0m \u001b[0mnewline\u001b[0m\u001b[0;34m\u001b[0m\u001b[0;34m\u001b[0m\u001b[0m\n\u001b[0m\u001b[1;32m   1627\u001b[0m                 \u001b[0;32mexcept\u001b[0m \u001b[0mTypeError\u001b[0m \u001b[0;32mas\u001b[0m \u001b[0me\u001b[0m\u001b[0;34m:\u001b[0m\u001b[0;34m\u001b[0m\u001b[0;34m\u001b[0m\u001b[0m\n",
            "\u001b[0;31mTypeError\u001b[0m: must be real number, not numpy.str_",
            "\nThe above exception was the direct cause of the following exception:\n",
            "\u001b[0;31mTypeError\u001b[0m                                 Traceback (most recent call last)",
            "\u001b[0;32m/tmp/ipython-input-25-3675598209.py\u001b[0m in \u001b[0;36m<cell line: 0>\u001b[0;34m()\u001b[0m\n\u001b[1;32m      7\u001b[0m \u001b[0;34m\u001b[0m\u001b[0m\n\u001b[1;32m      8\u001b[0m \u001b[0;31m# Guardar en archivo \"ejercicio6.txt\"\u001b[0m\u001b[0;34m\u001b[0m\u001b[0;34m\u001b[0m\u001b[0m\n\u001b[0;32m----> 9\u001b[0;31m \u001b[0mnp\u001b[0m\u001b[0;34m.\u001b[0m\u001b[0msavetxt\u001b[0m\u001b[0;34m(\u001b[0m\u001b[0;34m'ejercicio6.txt'\u001b[0m\u001b[0;34m,\u001b[0m \u001b[0mlist\u001b[0m\u001b[0;34m(\u001b[0m\u001b[0mzip\u001b[0m\u001b[0;34m(\u001b[0m\u001b[0masignaturas\u001b[0m\u001b[0;34m,\u001b[0m \u001b[0mnotas\u001b[0m\u001b[0;34m)\u001b[0m\u001b[0;34m)\u001b[0m\u001b[0;34m,\u001b[0m \u001b[0mfmt\u001b[0m\u001b[0;34m=\u001b[0m\u001b[0;34m\"%s, %.2f\"\u001b[0m\u001b[0;34m)\u001b[0m\u001b[0;34m\u001b[0m\u001b[0;34m\u001b[0m\u001b[0m\n\u001b[0m\u001b[1;32m     10\u001b[0m \u001b[0;34m\u001b[0m\u001b[0m\n\u001b[1;32m     11\u001b[0m \u001b[0;31m# Cargar desde archivo\u001b[0m\u001b[0;34m\u001b[0m\u001b[0;34m\u001b[0m\u001b[0m\n",
            "\u001b[0;32m/usr/local/lib/python3.11/dist-packages/numpy/lib/_npyio_impl.py\u001b[0m in \u001b[0;36msavetxt\u001b[0;34m(fname, X, fmt, delimiter, newline, header, footer, comments, encoding)\u001b[0m\n\u001b[1;32m   1626\u001b[0m                     \u001b[0mv\u001b[0m \u001b[0;34m=\u001b[0m \u001b[0mformat\u001b[0m \u001b[0;34m%\u001b[0m \u001b[0mtuple\u001b[0m\u001b[0;34m(\u001b[0m\u001b[0mrow\u001b[0m\u001b[0;34m)\u001b[0m \u001b[0;34m+\u001b[0m \u001b[0mnewline\u001b[0m\u001b[0;34m\u001b[0m\u001b[0;34m\u001b[0m\u001b[0m\n\u001b[1;32m   1627\u001b[0m                 \u001b[0;32mexcept\u001b[0m \u001b[0mTypeError\u001b[0m \u001b[0;32mas\u001b[0m \u001b[0me\u001b[0m\u001b[0;34m:\u001b[0m\u001b[0;34m\u001b[0m\u001b[0;34m\u001b[0m\u001b[0m\n\u001b[0;32m-> 1628\u001b[0;31m                     raise TypeError(\"Mismatch between array dtype ('%s') and \"\n\u001b[0m\u001b[1;32m   1629\u001b[0m                                     \u001b[0;34m\"format specifier ('%s')\"\u001b[0m\u001b[0;34m\u001b[0m\u001b[0;34m\u001b[0m\u001b[0m\n\u001b[1;32m   1630\u001b[0m                                     % (str(X.dtype), format)) from e\n",
            "\u001b[0;31mTypeError\u001b[0m: Mismatch between array dtype ('<U32') and format specifier ('%s, %.2f')"
          ]
        }
      ]
    },
    {
      "cell_type": "markdown",
      "source": [
        "Ejercicio 7: Eliminar letras en posiciones múltiplos de 3 del abecedario"
      ],
      "metadata": {
        "id": "Z6ihKACtPVnm"
      }
    },
    {
      "cell_type": "code",
      "source": [
        "# Ejercicio 7\n",
        "import numpy as np\n",
        "\n",
        "# Abecedario\n",
        "abecedario = list(\"abcdefghijklmnopqrstuvwxyz\")\n",
        "\n",
        "# Guardar en archivo \"ejercicio7.txt\"\n",
        "np.savetxt('ejercicio7.txt', abecedario, fmt=\"%s\")\n",
        "\n",
        "# Cargar desde archivo\n",
        "abecedario_cargado = np.loadtxt('ejercicio7.txt', dtype=str)\n",
        "\n",
        "# Eliminar letras en posiciones múltiplos de 3\n",
        "abecedario_cargado = [letra for i, letra in enumerate(abecedario_cargado) if (i + 1) % 3 != 0]\n",
        "\n",
        "print(\"Abecedario resultante:\", abecedario_cargado)\n"
      ],
      "metadata": {
        "colab": {
          "base_uri": "https://localhost:8080/"
        },
        "id": "vwzw9Ci5PWX2",
        "outputId": "4f1b2d78-34e9-45c7-9cce-ef7c2a4e7e52"
      },
      "execution_count": 26,
      "outputs": [
        {
          "output_type": "stream",
          "name": "stdout",
          "text": [
            "Abecedario resultante: [np.str_('a'), np.str_('b'), np.str_('d'), np.str_('e'), np.str_('g'), np.str_('h'), np.str_('j'), np.str_('k'), np.str_('m'), np.str_('n'), np.str_('p'), np.str_('q'), np.str_('s'), np.str_('t'), np.str_('v'), np.str_('w'), np.str_('y'), np.str_('z')]\n"
          ]
        }
      ]
    },
    {
      "cell_type": "markdown",
      "source": [
        "Ejercicio 8: Verificar si una palabra es un palíndromo"
      ],
      "metadata": {
        "id": "DUj1kNvjPX9F"
      }
    },
    {
      "cell_type": "code",
      "source": [
        "# Ejercicio 8\n",
        "import numpy as np\n",
        "\n",
        "# Pedir al usuario una palabra\n",
        "palabra = input(\"Introduce una palabra: \")\n",
        "\n",
        "# Guardar la palabra en archivo \"ejercicio8.txt\"\n",
        "np.savetxt('ejercicio8.txt', [palabra], fmt=\"%s\")\n",
        "\n",
        "# Cargar la palabra desde el archivo\n",
        "palabra_cargada = np.loadtxt('ejercicio8.txt', dtype=str)[0]\n",
        "\n",
        "# Verificar si es un palíndromo\n",
        "if palabra_cargada == palabra_cargada[::-1]:\n",
        "    print(\"La palabra es un palíndromo.\")\n",
        "else:\n",
        "    print(\"La palabra no es un palíndromo.\")\n"
      ],
      "metadata": {
        "colab": {
          "base_uri": "https://localhost:8080/",
          "height": 228
        },
        "id": "kexeyoLOPYtN",
        "outputId": "2a155c98-43f4-4097-f791-77136f36850d"
      },
      "execution_count": 31,
      "outputs": [
        {
          "name": "stdout",
          "output_type": "stream",
          "text": [
            "Introduce una palabra: oso\n"
          ]
        },
        {
          "output_type": "error",
          "ename": "IndexError",
          "evalue": "too many indices for array: array is 0-dimensional, but 1 were indexed",
          "traceback": [
            "\u001b[0;31m---------------------------------------------------------------------------\u001b[0m",
            "\u001b[0;31mIndexError\u001b[0m                                Traceback (most recent call last)",
            "\u001b[0;32m/tmp/ipython-input-31-2044672118.py\u001b[0m in \u001b[0;36m<cell line: 0>\u001b[0;34m()\u001b[0m\n\u001b[1;32m      9\u001b[0m \u001b[0;34m\u001b[0m\u001b[0m\n\u001b[1;32m     10\u001b[0m \u001b[0;31m# Cargar la palabra desde el archivo\u001b[0m\u001b[0;34m\u001b[0m\u001b[0;34m\u001b[0m\u001b[0m\n\u001b[0;32m---> 11\u001b[0;31m \u001b[0mpalabra_cargada\u001b[0m \u001b[0;34m=\u001b[0m \u001b[0mnp\u001b[0m\u001b[0;34m.\u001b[0m\u001b[0mloadtxt\u001b[0m\u001b[0;34m(\u001b[0m\u001b[0;34m'ejercicio8.txt'\u001b[0m\u001b[0;34m,\u001b[0m \u001b[0mdtype\u001b[0m\u001b[0;34m=\u001b[0m\u001b[0mstr\u001b[0m\u001b[0;34m)\u001b[0m\u001b[0;34m[\u001b[0m\u001b[0;36m0\u001b[0m\u001b[0;34m]\u001b[0m\u001b[0;34m\u001b[0m\u001b[0;34m\u001b[0m\u001b[0m\n\u001b[0m\u001b[1;32m     12\u001b[0m \u001b[0;34m\u001b[0m\u001b[0m\n\u001b[1;32m     13\u001b[0m \u001b[0;31m# Verificar si es un palíndromo\u001b[0m\u001b[0;34m\u001b[0m\u001b[0;34m\u001b[0m\u001b[0m\n",
            "\u001b[0;31mIndexError\u001b[0m: too many indices for array: array is 0-dimensional, but 1 were indexed"
          ]
        }
      ]
    },
    {
      "cell_type": "markdown",
      "source": [
        "Ejercicio 9: Contar las vocales en una palabra"
      ],
      "metadata": {
        "id": "jI3AoxzCPaZN"
      }
    },
    {
      "cell_type": "code",
      "source": [
        "# Ejercicio 9\n",
        "import numpy as np\n",
        "\n",
        "# Pedir al usuario una palabra\n",
        "palabra = input(\"Introduce una palabra: \").lower()\n",
        "\n",
        "# Guardar la palabra en archivo \"ejercicio9.txt\"\n",
        "np.savetxt('ejercicio9.txt', [palabra], fmt=\"%s\")\n",
        "\n",
        "# Cargar la palabra desde el archivo\n",
        "palabra_cargada = np.loadtxt('ejercicio9.txt', dtype=str)[0]\n",
        "\n",
        "# Contar las vocales\n",
        "vocales = \"aeiou\"\n",
        "conteo_vocales = {vocal: palabra_cargada.count(vocal) for vocal in vocales}\n",
        "\n",
        "for vocal, conteo in conteo_vocales.items():\n",
        "    print(f\"La vocal '{vocal}' aparece {conteo} veces.\")\n"
      ],
      "metadata": {
        "colab": {
          "base_uri": "https://localhost:8080/",
          "height": 228
        },
        "id": "is78ePTgPbOV",
        "outputId": "a06ada3f-faa6-45c6-bd86-0ef7a1e0ccd5"
      },
      "execution_count": 32,
      "outputs": [
        {
          "name": "stdout",
          "output_type": "stream",
          "text": [
            "Introduce una palabra: oso\n"
          ]
        },
        {
          "output_type": "error",
          "ename": "IndexError",
          "evalue": "too many indices for array: array is 0-dimensional, but 1 were indexed",
          "traceback": [
            "\u001b[0;31m---------------------------------------------------------------------------\u001b[0m",
            "\u001b[0;31mIndexError\u001b[0m                                Traceback (most recent call last)",
            "\u001b[0;32m/tmp/ipython-input-32-2938489017.py\u001b[0m in \u001b[0;36m<cell line: 0>\u001b[0;34m()\u001b[0m\n\u001b[1;32m      9\u001b[0m \u001b[0;34m\u001b[0m\u001b[0m\n\u001b[1;32m     10\u001b[0m \u001b[0;31m# Cargar la palabra desde el archivo\u001b[0m\u001b[0;34m\u001b[0m\u001b[0;34m\u001b[0m\u001b[0m\n\u001b[0;32m---> 11\u001b[0;31m \u001b[0mpalabra_cargada\u001b[0m \u001b[0;34m=\u001b[0m \u001b[0mnp\u001b[0m\u001b[0;34m.\u001b[0m\u001b[0mloadtxt\u001b[0m\u001b[0;34m(\u001b[0m\u001b[0;34m'ejercicio9.txt'\u001b[0m\u001b[0;34m,\u001b[0m \u001b[0mdtype\u001b[0m\u001b[0;34m=\u001b[0m\u001b[0mstr\u001b[0m\u001b[0;34m)\u001b[0m\u001b[0;34m[\u001b[0m\u001b[0;36m0\u001b[0m\u001b[0;34m]\u001b[0m\u001b[0;34m\u001b[0m\u001b[0;34m\u001b[0m\u001b[0m\n\u001b[0m\u001b[1;32m     12\u001b[0m \u001b[0;34m\u001b[0m\u001b[0m\n\u001b[1;32m     13\u001b[0m \u001b[0;31m# Contar las vocales\u001b[0m\u001b[0;34m\u001b[0m\u001b[0;34m\u001b[0m\u001b[0m\n",
            "\u001b[0;31mIndexError\u001b[0m: too many indices for array: array is 0-dimensional, but 1 were indexed"
          ]
        }
      ]
    },
    {
      "cell_type": "markdown",
      "source": [
        "Ejercicio 10: Mostrar el precio menor y mayor"
      ],
      "metadata": {
        "id": "tiEpLst1PdEm"
      }
    },
    {
      "cell_type": "code",
      "source": [
        "# Ejercicio 10\n",
        "import numpy as np\n",
        "\n",
        "# Precios\n",
        "precios = [50, 75, 46, 22, 80, 65, 8]\n",
        "\n",
        "# Guardar en archivo \"ejercicio10.txt\"\n",
        "np.savetxt('ejercicio10.txt', precios, fmt=\"%d\")\n",
        "\n",
        "# Cargar desde archivo\n",
        "precios_cargados = np.loadtxt('ejercicio10.txt', dtype=int)\n",
        "\n",
        "# Mostrar el precio menor y mayor\n",
        "print(\"El precio menor es:\", min(precios_cargados))\n",
        "print(\"El precio mayor es:\", max(precios_cargados))\n"
      ],
      "metadata": {
        "colab": {
          "base_uri": "https://localhost:8080/"
        },
        "id": "pbDcd7QePdyd",
        "outputId": "f8c462e2-a673-4777-e2ee-6122155949ce"
      },
      "execution_count": 34,
      "outputs": [
        {
          "output_type": "stream",
          "name": "stdout",
          "text": [
            "El precio menor es: 8\n",
            "El precio mayor es: 80\n"
          ]
        }
      ]
    },
    {
      "cell_type": "markdown",
      "source": [
        "Ejercicio 11: Producto escalar de dos vectores"
      ],
      "metadata": {
        "id": "yDbjo_j9Pjf2"
      }
    },
    {
      "cell_type": "code",
      "source": [
        "# Ejercicio 11\n",
        "import numpy as np\n",
        "\n",
        "# Vectores\n",
        "vector1 = [1, 2, 3]\n",
        "vector2 = [-1, 0, 2]\n",
        "\n",
        "# Guardar los vectores en archivo \"ejercicio11.txt\"\n",
        "np.savetxt('ejercicio11.txt', [vector1, vector2], fmt=\"%d\")\n",
        "\n",
        "# Cargar los vectores desde el archivo\n",
        "vectores_cargados = np.loadtxt('ejercicio11.txt', dtype=int)\n",
        "\n",
        "# Producto escalar\n",
        "producto_escalar = np.dot(vectores_cargados[0], vectores_cargados[1])\n",
        "print(\"El producto escalar es:\", producto_escalar)\n"
      ],
      "metadata": {
        "colab": {
          "base_uri": "https://localhost:8080/"
        },
        "id": "w4ic8GGKPkRF",
        "outputId": "ec6b985b-fea7-41e2-e0cb-152ef68c513d"
      },
      "execution_count": 36,
      "outputs": [
        {
          "output_type": "stream",
          "name": "stdout",
          "text": [
            "El producto escalar es: 5\n"
          ]
        }
      ]
    },
    {
      "cell_type": "markdown",
      "source": [
        "Ejercicio 12: Producto de matrices"
      ],
      "metadata": {
        "id": "tjbmAteFPloG"
      }
    },
    {
      "cell_type": "code",
      "source": [
        "# Ejercicio 12\n",
        "import numpy as np\n",
        "\n",
        "# Matrices\n",
        "A = [[1, 2], [3, 4]]\n",
        "B = [[-1, 0], [2, 3]]\n",
        "\n",
        "# Guardar las matrices en archivo \"ejercicio12.txt\"\n",
        "np.savetxt('ejercicio12.txt', [A, B], fmt=\"%d\")\n",
        "\n",
        "# Cargar las matrices desde el archivo\n",
        "matrices_cargadas = np.loadtxt('ejercicio12.txt', dtype=int)\n",
        "\n",
        "# Producto de matrices\n",
        "producto\n"
      ],
      "metadata": {
        "colab": {
          "base_uri": "https://localhost:8080/",
          "height": 332
        },
        "id": "BpgKGCKJPmZV",
        "outputId": "41e861cd-6f93-4ce6-90ce-c83aab5205e7"
      },
      "execution_count": 37,
      "outputs": [
        {
          "output_type": "error",
          "ename": "ValueError",
          "evalue": "Expected 1D or 2D array, got 3D array instead",
          "traceback": [
            "\u001b[0;31m---------------------------------------------------------------------------\u001b[0m",
            "\u001b[0;31mValueError\u001b[0m                                Traceback (most recent call last)",
            "\u001b[0;32m/tmp/ipython-input-37-1042416863.py\u001b[0m in \u001b[0;36m<cell line: 0>\u001b[0;34m()\u001b[0m\n\u001b[1;32m      7\u001b[0m \u001b[0;34m\u001b[0m\u001b[0m\n\u001b[1;32m      8\u001b[0m \u001b[0;31m# Guardar las matrices en archivo \"ejercicio12.txt\"\u001b[0m\u001b[0;34m\u001b[0m\u001b[0;34m\u001b[0m\u001b[0m\n\u001b[0;32m----> 9\u001b[0;31m \u001b[0mnp\u001b[0m\u001b[0;34m.\u001b[0m\u001b[0msavetxt\u001b[0m\u001b[0;34m(\u001b[0m\u001b[0;34m'ejercicio12.txt'\u001b[0m\u001b[0;34m,\u001b[0m \u001b[0;34m[\u001b[0m\u001b[0mA\u001b[0m\u001b[0;34m,\u001b[0m \u001b[0mB\u001b[0m\u001b[0;34m]\u001b[0m\u001b[0;34m,\u001b[0m \u001b[0mfmt\u001b[0m\u001b[0;34m=\u001b[0m\u001b[0;34m\"%d\"\u001b[0m\u001b[0;34m)\u001b[0m\u001b[0;34m\u001b[0m\u001b[0;34m\u001b[0m\u001b[0m\n\u001b[0m\u001b[1;32m     10\u001b[0m \u001b[0;34m\u001b[0m\u001b[0m\n\u001b[1;32m     11\u001b[0m \u001b[0;31m# Cargar las matrices desde el archivo\u001b[0m\u001b[0;34m\u001b[0m\u001b[0;34m\u001b[0m\u001b[0m\n",
            "\u001b[0;32m/usr/local/lib/python3.11/dist-packages/numpy/lib/_npyio_impl.py\u001b[0m in \u001b[0;36msavetxt\u001b[0;34m(fname, X, fmt, delimiter, newline, header, footer, comments, encoding)\u001b[0m\n\u001b[1;32m   1571\u001b[0m         \u001b[0;31m# Handle 1-dimensional arrays\u001b[0m\u001b[0;34m\u001b[0m\u001b[0;34m\u001b[0m\u001b[0m\n\u001b[1;32m   1572\u001b[0m         \u001b[0;32mif\u001b[0m \u001b[0mX\u001b[0m\u001b[0;34m.\u001b[0m\u001b[0mndim\u001b[0m \u001b[0;34m==\u001b[0m \u001b[0;36m0\u001b[0m \u001b[0;32mor\u001b[0m \u001b[0mX\u001b[0m\u001b[0;34m.\u001b[0m\u001b[0mndim\u001b[0m \u001b[0;34m>\u001b[0m \u001b[0;36m2\u001b[0m\u001b[0;34m:\u001b[0m\u001b[0;34m\u001b[0m\u001b[0;34m\u001b[0m\u001b[0m\n\u001b[0;32m-> 1573\u001b[0;31m             raise ValueError(\n\u001b[0m\u001b[1;32m   1574\u001b[0m                 \"Expected 1D or 2D array, got %dD array instead\" % X.ndim)\n\u001b[1;32m   1575\u001b[0m         \u001b[0;32melif\u001b[0m \u001b[0mX\u001b[0m\u001b[0;34m.\u001b[0m\u001b[0mndim\u001b[0m \u001b[0;34m==\u001b[0m \u001b[0;36m1\u001b[0m\u001b[0;34m:\u001b[0m\u001b[0;34m\u001b[0m\u001b[0;34m\u001b[0m\u001b[0m\n",
            "\u001b[0;31mValueError\u001b[0m: Expected 1D or 2D array, got 3D array instead"
          ]
        }
      ]
    },
    {
      "cell_type": "markdown",
      "source": [
        "Ejercicio 13: Crear una lista de palabras y contarlas"
      ],
      "metadata": {
        "id": "Ln5f8kAxPm3W"
      }
    },
    {
      "cell_type": "code",
      "source": [
        "# Ejercicio 13\n",
        "import numpy as np\n",
        "\n",
        "# Lista de palabras\n",
        "palabras = [\"manzana\", \"banana\", \"cereza\", \"uva\", \"kiwi\"]\n",
        "\n",
        "# Guardar la lista de palabras en el archivo \"ejercicio13.txt\"\n",
        "np.savetxt('ejercicio13.txt', palabras, fmt=\"%s\")\n",
        "\n",
        "# Cargar las palabras desde el archivo\n",
        "palabras_cargadas = np.loadtxt('ejercicio13.txt', dtype=str)\n",
        "\n",
        "# Contar el número de palabras\n",
        "cantidad_palabras = len(palabras_cargadas)\n",
        "print(f\"El número total de palabras es: {cantidad_palabras}\")\n"
      ],
      "metadata": {
        "colab": {
          "base_uri": "https://localhost:8080/"
        },
        "id": "7lguAGVUPt8O",
        "outputId": "ebb8e938-ee02-4887-988d-c1684b0ddd9c"
      },
      "execution_count": 38,
      "outputs": [
        {
          "output_type": "stream",
          "name": "stdout",
          "text": [
            "El número total de palabras es: 5\n"
          ]
        }
      ]
    }
  ]
}